{
 "cells": [
  {
   "cell_type": "markdown",
   "id": "elegant-marker",
   "metadata": {},
   "source": [
    "Improvements\n",
    "- additional artist\n",
    "- better regex filter\n",
    "- making function to filter spotify more readable\n",
    "- User input programm flow"
   ]
  },
  {
   "cell_type": "markdown",
   "id": "daily-curtis",
   "metadata": {},
   "source": [
    "# Scrape Billboard Top 100"
   ]
  },
  {
   "cell_type": "markdown",
   "id": "comprehensive-leeds",
   "metadata": {},
   "source": [
    "## Parse HTML Page"
   ]
  },
  {
   "cell_type": "code",
   "execution_count": 2,
   "id": "virgin-database",
   "metadata": {},
   "outputs": [],
   "source": [
    "import requests\n",
    "import pandas as pd\n",
    "from bs4 import BeautifulSoup\n",
    "\n",
    "url = 'https://www.billboard.com/charts/hot-100'\n",
    "response = requests.get(url)\n",
    "soup = BeautifulSoup(response.content, 'html.parser')"
   ]
  },
  {
   "cell_type": "code",
   "execution_count": 3,
   "id": "christian-polymer",
   "metadata": {},
   "outputs": [
    {
     "data": {
      "text/plain": [
       "'Leave The Door Open'"
      ]
     },
     "execution_count": 3,
     "metadata": {},
     "output_type": "execute_result"
    }
   ],
   "source": [
    "soup.select('span.chart-element__information__song')[1].text"
   ]
  },
  {
   "cell_type": "markdown",
   "id": "nutritional-strategy",
   "metadata": {},
   "source": [
    "## Extract Data"
   ]
  },
  {
   "cell_type": "code",
   "execution_count": 4,
   "id": "rolled-detroit",
   "metadata": {},
   "outputs": [],
   "source": [
    "#song_names\n",
    "song_lst = []\n",
    "song_names = soup.select('span.chart-element__information__song')\n",
    "\n",
    "for song in song_names:\n",
    "    song_lst.append(song.text)"
   ]
  },
  {
   "cell_type": "code",
   "execution_count": 5,
   "id": "sophisticated-reply",
   "metadata": {},
   "outputs": [],
   "source": [
    "#artist_names\n",
    "artist_lst = []\n",
    "artist_names = soup.select('span.chart-element__information__artist')\n",
    "\n",
    "for artist in artist_names:\n",
    "    artist_lst.append(artist.text)"
   ]
  },
  {
   "cell_type": "code",
   "execution_count": 6,
   "id": "handled-orientation",
   "metadata": {},
   "outputs": [],
   "source": [
    "#ranking\n",
    "ranking_lst = []\n",
    "ranking_names = soup.select('span.chart-element__rank__number')\n",
    "\n",
    "for rank in ranking_names:\n",
    "    ranking_lst.append(rank.text)"
   ]
  },
  {
   "cell_type": "markdown",
   "id": "lovely-greek",
   "metadata": {},
   "source": [
    "## Convert to DataFrame and save"
   ]
  },
  {
   "cell_type": "code",
   "execution_count": 7,
   "id": "oriented-wallace",
   "metadata": {},
   "outputs": [],
   "source": [
    "billboard_top = pd.DataFrame({'rank':ranking_lst, 'artist': artist_lst, 'song': song_lst})"
   ]
  },
  {
   "cell_type": "code",
   "execution_count": 8,
   "id": "italic-updating",
   "metadata": {},
   "outputs": [
    {
     "data": {
      "text/html": [
       "<div>\n",
       "<style scoped>\n",
       "    .dataframe tbody tr th:only-of-type {\n",
       "        vertical-align: middle;\n",
       "    }\n",
       "\n",
       "    .dataframe tbody tr th {\n",
       "        vertical-align: top;\n",
       "    }\n",
       "\n",
       "    .dataframe thead th {\n",
       "        text-align: right;\n",
       "    }\n",
       "</style>\n",
       "<table border=\"1\" class=\"dataframe\">\n",
       "  <thead>\n",
       "    <tr style=\"text-align: right;\">\n",
       "      <th></th>\n",
       "      <th>rank</th>\n",
       "      <th>artist</th>\n",
       "      <th>song</th>\n",
       "    </tr>\n",
       "  </thead>\n",
       "  <tbody>\n",
       "    <tr>\n",
       "      <th>0</th>\n",
       "      <td>1</td>\n",
       "      <td>The Weeknd &amp; Ariana Grande</td>\n",
       "      <td>Save Your Tears</td>\n",
       "    </tr>\n",
       "    <tr>\n",
       "      <th>1</th>\n",
       "      <td>2</td>\n",
       "      <td>Silk Sonic (Bruno Mars &amp; Anderson .Paak)</td>\n",
       "      <td>Leave The Door Open</td>\n",
       "    </tr>\n",
       "    <tr>\n",
       "      <th>2</th>\n",
       "      <td>3</td>\n",
       "      <td>Justin Bieber Featuring Daniel Caesar &amp; Giveon</td>\n",
       "      <td>Peaches</td>\n",
       "    </tr>\n",
       "    <tr>\n",
       "      <th>3</th>\n",
       "      <td>4</td>\n",
       "      <td>Polo G</td>\n",
       "      <td>Rapstar</td>\n",
       "    </tr>\n",
       "    <tr>\n",
       "      <th>4</th>\n",
       "      <td>5</td>\n",
       "      <td>Dua Lipa Featuring DaBaby</td>\n",
       "      <td>Levitating</td>\n",
       "    </tr>\n",
       "  </tbody>\n",
       "</table>\n",
       "</div>"
      ],
      "text/plain": [
       "  rank                                          artist                 song\n",
       "0    1                      The Weeknd & Ariana Grande      Save Your Tears\n",
       "1    2        Silk Sonic (Bruno Mars & Anderson .Paak)  Leave The Door Open\n",
       "2    3  Justin Bieber Featuring Daniel Caesar & Giveon              Peaches\n",
       "3    4                                          Polo G              Rapstar\n",
       "4    5                       Dua Lipa Featuring DaBaby           Levitating"
      ]
     },
     "execution_count": 8,
     "metadata": {},
     "output_type": "execute_result"
    }
   ],
   "source": [
    "billboard_top.head()"
   ]
  },
  {
   "cell_type": "code",
   "execution_count": 9,
   "id": "liquid-knight",
   "metadata": {},
   "outputs": [],
   "source": [
    "billboard_top.to_csv('billboard_top.csv')"
   ]
  },
  {
   "cell_type": "markdown",
   "id": "bizarre-sellers",
   "metadata": {},
   "source": [
    "# User input validation"
   ]
  },
  {
   "cell_type": "code",
   "execution_count": 10,
   "id": "subjective-survivor",
   "metadata": {
    "scrolled": false
   },
   "outputs": [
    {
     "name": "stdout",
     "output_type": "stream",
     "text": [
      "Artist: test\n",
      "Song: test\n"
     ]
    },
    {
     "ename": "NameError",
     "evalue": "name 'hot_or_not' is not defined",
     "output_type": "error",
     "traceback": [
      "\u001b[0;31m---------------------------------------------------------------------------\u001b[0m",
      "\u001b[0;31mNameError\u001b[0m                                 Traceback (most recent call last)",
      "\u001b[0;32m<ipython-input-10-4f46717533e3>\u001b[0m in \u001b[0;36m<module>\u001b[0;34m\u001b[0m\n\u001b[1;32m     10\u001b[0m         \u001b[0mprint\u001b[0m \u001b[0;34m(\u001b[0m\u001b[0;34m\"Please enter a valid artist\"\u001b[0m\u001b[0;34m)\u001b[0m\u001b[0;34m\u001b[0m\u001b[0;34m\u001b[0m\u001b[0m\n\u001b[1;32m     11\u001b[0m         \u001b[0msong\u001b[0m \u001b[0;34m=\u001b[0m \u001b[0;34m\"9999999999xxxx\"\u001b[0m\u001b[0;34m\u001b[0m\u001b[0;34m\u001b[0m\u001b[0m\n\u001b[0;32m---> 12\u001b[0;31m \u001b[0mprint\u001b[0m\u001b[0;34m(\u001b[0m\u001b[0mhot_or_not\u001b[0m\u001b[0;34m(\u001b[0m\u001b[0martist_name\u001b[0m\u001b[0;34m,\u001b[0m \u001b[0msong\u001b[0m\u001b[0;34m)\u001b[0m\u001b[0;34m)\u001b[0m\u001b[0;34m\u001b[0m\u001b[0;34m\u001b[0m\u001b[0m\n\u001b[0m",
      "\u001b[0;31mNameError\u001b[0m: name 'hot_or_not' is not defined"
     ]
    }
   ],
   "source": [
    "import re\n",
    "\n",
    "artist_name = input('Artist: ')\n",
    "if not re.match(\".{4,}\", artist_name):\n",
    "        print (\"Please enter a valid artist\")\n",
    "        artist_name = \"9999999999xxxx\"\n",
    "        \n",
    "song = input('Song: ')\n",
    "if not re.match(\".{4,}\", artist_name):\n",
    "        print (\"Please enter a valid artist\")\n",
    "        song = \"9999999999xxxx\"\n",
    "print(hot_or_not(artist_name, song))"
   ]
  },
  {
   "cell_type": "code",
   "execution_count": null,
   "id": "growing-benefit",
   "metadata": {},
   "outputs": [],
   "source": [
    "def hot_or_not (artist, song):\n",
    "    '''\n",
    "    function determines if artist is in the scraped database\n",
    "    '''\n",
    "    contains_artist = billboard_top['artist'].str.contains(artist_name)\n",
    "    contains_title = billboard_top['song'].str.contains(song)\n",
    "    results = pd.DataFrame({'contains_artist': contains_artist, 'contains_title': contains_title, \"match\": contains_artist & contains_title})\n",
    "\n",
    "    if results['match'].any():\n",
    "        s = 'Hot'\n",
    "    else:\n",
    "        s = 'Not'\n",
    "    return s"
   ]
  },
  {
   "cell_type": "markdown",
   "id": "atmospheric-accused",
   "metadata": {},
   "source": [
    "# Creating Dataframe from Spotify Wrapper"
   ]
  },
  {
   "cell_type": "code",
   "execution_count": 17,
   "id": "noble-garbage",
   "metadata": {},
   "outputs": [],
   "source": [
    "import spotipy\n",
    "from spotipy.oauth2 import SpotifyClientCredentials\n",
    "import getpass\n",
    "import pandas as pd\n",
    "from tqdm.notebook import tqdm\n",
    "\n",
    "sp = spotipy.Spotify(auth_manager=SpotifyClientCredentials(client_id=\"7ac25cd2df894d4587f18918f0776908\",\n",
    "                                                           client_secret=\"947331b0345946ef847d79f23802ee84\"))"
   ]
  },
  {
   "cell_type": "code",
   "execution_count": 14,
   "id": "gross-brook",
   "metadata": {
    "scrolled": false
   },
   "outputs": [
    {
     "name": "stderr",
     "output_type": "stream",
     "text": [
      "  0%|          | 0/15 [00:00<?, ?it/s]\n",
      "  0%|          | 0/13 [00:00<?, ?it/s]\u001b[A\n",
      "  8%|▊         | 1/13 [00:20<04:06, 20.51s/it]\u001b[A\n",
      " 15%|█▌        | 2/13 [01:00<05:49, 31.80s/it]\u001b[A\n",
      " 23%|██▎       | 3/13 [01:20<04:25, 26.55s/it]\u001b[A\n",
      " 31%|███       | 4/13 [01:52<04:19, 28.85s/it]\u001b[A\n",
      " 38%|███▊      | 5/13 [02:12<03:23, 25.47s/it]\u001b[A\n",
      " 46%|████▌     | 6/13 [02:46<03:17, 28.25s/it]\u001b[A\n",
      " 54%|█████▍    | 7/13 [03:06<02:34, 25.69s/it]\u001b[A\n",
      " 62%|██████▏   | 8/13 [03:26<01:59, 23.83s/it]\u001b[A\n",
      " 69%|██████▉   | 9/13 [03:55<01:42, 25.51s/it]\u001b[A\n",
      " 77%|███████▋  | 10/13 [04:15<01:11, 23.87s/it]\u001b[A\n",
      " 85%|████████▍ | 11/13 [04:35<00:45, 22.70s/it]\u001b[A\n",
      " 92%|█████████▏| 12/13 [04:55<00:21, 21.69s/it]\u001b[A\n",
      "100%|██████████| 13/13 [05:15<00:00, 24.25s/it]\u001b[A\n",
      "  7%|▋         | 1/15 [05:15<1:13:35, 315.39s/it]\n",
      "  0%|          | 0/9 [00:00<?, ?it/s]\u001b[A\n",
      " 11%|█         | 1/9 [00:40<05:20, 40.09s/it]\u001b[A\n",
      " 22%|██▏       | 2/9 [01:20<04:40, 40.13s/it]\u001b[A\n",
      " 33%|███▎      | 3/9 [02:01<04:02, 40.44s/it]\u001b[A\n",
      " 44%|████▍     | 4/9 [02:41<03:23, 40.61s/it]\u001b[A\n",
      " 56%|█████▌    | 5/9 [03:21<02:41, 40.26s/it]\u001b[A\n",
      " 67%|██████▋   | 6/9 [04:01<02:00, 40.30s/it]\u001b[A\n",
      " 78%|███████▊  | 7/9 [04:27<01:10, 35.46s/it]\u001b[A\n",
      " 89%|████████▉ | 8/9 [05:07<00:36, 36.79s/it]\u001b[A\n",
      "100%|██████████| 9/9 [05:31<00:00, 36.81s/it]\u001b[A\n",
      " 13%|█▎        | 2/15 [10:46<1:10:22, 324.80s/it]\n",
      "  0%|          | 0/2 [00:00<?, ?it/s]\u001b[A\n",
      " 50%|█████     | 1/2 [00:18<00:18, 18.80s/it]\u001b[A\n",
      "100%|██████████| 2/2 [00:55<00:00, 27.54s/it]\u001b[A\n",
      " 20%|██        | 3/15 [11:41<40:20, 201.69s/it]  \n",
      "  0%|          | 0/15 [00:00<?, ?it/s]\u001b[A\n",
      "  7%|▋         | 1/15 [00:29<06:49, 29.22s/it]\u001b[A\n",
      " 13%|█▎        | 2/15 [00:49<05:14, 24.17s/it]\u001b[A\n",
      " 20%|██        | 3/15 [01:09<04:26, 22.19s/it]\u001b[A\n",
      " 27%|██▋       | 4/15 [01:40<04:41, 25.59s/it]\u001b[A\n",
      " 33%|███▎      | 5/15 [02:01<04:00, 24.05s/it]\u001b[A\n",
      " 40%|████      | 6/15 [02:20<03:20, 22.30s/it]\u001b[A\n",
      " 47%|████▋     | 7/15 [02:40<02:52, 21.56s/it]\u001b[A\n",
      " 53%|█████▎    | 8/15 [03:00<02:26, 20.95s/it]\u001b[A\n",
      " 60%|██████    | 9/15 [03:20<02:03, 20.61s/it]\u001b[A\n",
      " 67%|██████▋   | 10/15 [03:40<01:43, 20.63s/it]\u001b[A\n",
      " 73%|███████▎  | 11/15 [04:00<01:21, 20.32s/it]\u001b[A\n",
      " 80%|████████  | 12/15 [04:20<01:00, 20.32s/it]\u001b[A\n",
      " 87%|████████▋ | 13/15 [04:41<00:40, 20.39s/it]\u001b[A\n",
      " 93%|█████████▎| 14/15 [05:00<00:20, 20.07s/it]\u001b[A\n",
      "100%|██████████| 15/15 [05:21<00:00, 21.47s/it]\u001b[A\n",
      " 27%|██▋       | 4/15 [17:04<45:41, 249.23s/it]\n",
      "  0%|          | 0/15 [00:00<?, ?it/s]\u001b[A\n",
      "  7%|▋         | 1/15 [00:38<09:03, 38.80s/it]\u001b[A\n",
      " 13%|█▎        | 2/15 [01:09<07:25, 34.30s/it]\u001b[A\n",
      " 20%|██        | 3/15 [01:50<07:25, 37.09s/it]\u001b[A\n",
      " 27%|██▋       | 4/15 [02:30<07:01, 38.27s/it]\u001b[A\n",
      " 33%|███▎      | 5/15 [03:00<05:53, 35.32s/it]\u001b[A\n",
      " 40%|████      | 6/15 [03:40<05:31, 36.85s/it]\u001b[A\n",
      " 47%|████▋     | 7/15 [04:20<05:03, 37.90s/it]\u001b[A\n",
      " 53%|█████▎    | 8/15 [05:01<04:31, 38.78s/it]\u001b[A\n",
      " 60%|██████    | 9/15 [05:41<03:54, 39.15s/it]\u001b[A\n",
      " 67%|██████▋   | 10/15 [06:20<03:16, 39.33s/it]\u001b[A\n",
      " 73%|███████▎  | 11/15 [06:46<02:21, 35.27s/it]\u001b[A\n",
      " 80%|████████  | 12/15 [07:26<01:49, 36.52s/it]\u001b[A\n",
      " 87%|████████▋ | 13/15 [07:46<01:03, 31.52s/it]\u001b[A\n",
      " 93%|█████████▎| 14/15 [08:26<00:34, 34.21s/it]\u001b[A\n",
      "100%|██████████| 15/15 [08:57<00:00, 35.86s/it]\u001b[A\n",
      " 33%|███▎      | 5/15 [26:02<58:53, 353.34s/it]\n",
      "  0%|          | 0/15 [00:00<?, ?it/s]\u001b[A\n",
      "  7%|▋         | 1/15 [00:40<09:23, 40.25s/it]\u001b[A\n",
      " 13%|█▎        | 2/15 [01:19<08:37, 39.81s/it]\u001b[A\n",
      " 20%|██        | 3/15 [02:00<08:04, 40.38s/it]\u001b[A\n",
      " 27%|██▋       | 4/15 [02:40<07:21, 40.17s/it]\u001b[A\n",
      " 33%|███▎      | 5/15 [03:20<06:39, 39.91s/it]\u001b[A\n",
      " 40%|████      | 6/15 [03:59<05:58, 39.85s/it]\u001b[A\n",
      " 47%|████▋     | 7/15 [04:40<05:21, 40.20s/it]\u001b[A\n",
      " 53%|█████▎    | 8/15 [05:02<03:59, 34.25s/it]\u001b[A\n",
      " 60%|██████    | 9/15 [05:41<03:35, 35.88s/it]\u001b[A\n",
      " 67%|██████▋   | 10/15 [06:02<02:35, 31.07s/it]\u001b[A\n",
      " 73%|███████▎  | 11/15 [06:44<02:18, 34.58s/it]\u001b[A\n",
      " 80%|████████  | 12/15 [07:16<01:41, 33.67s/it]\u001b[A\n",
      " 87%|████████▋ | 13/15 [07:45<01:04, 32.39s/it]\u001b[A\n",
      " 93%|█████████▎| 14/15 [08:25<00:34, 34.54s/it]\u001b[A\n",
      "100%|██████████| 15/15 [08:56<00:00, 35.76s/it]\u001b[A\n",
      " 40%|████      | 6/15 [34:58<1:02:20, 415.60s/it]\n",
      "  0%|          | 0/11 [00:00<?, ?it/s]\u001b[A\n",
      "  9%|▉         | 1/11 [00:19<03:13, 19.39s/it]\u001b[A\n",
      " 18%|█▊        | 2/11 [01:01<04:53, 32.65s/it]\u001b[A\n",
      " 27%|██▋       | 3/11 [01:41<04:49, 36.15s/it]\u001b[A\n",
      " 36%|███▋      | 4/11 [02:02<03:29, 29.98s/it]\u001b[A\n",
      " 45%|████▌     | 5/11 [02:31<02:59, 29.90s/it]\u001b[A\n",
      " 55%|█████▍    | 6/11 [02:52<02:12, 26.59s/it]\u001b[A\n",
      " 64%|██████▎   | 7/11 [03:11<01:37, 24.40s/it]\u001b[A\n",
      " 73%|███████▎  | 8/11 [03:32<01:09, 23.13s/it]\u001b[A\n",
      " 82%|████████▏ | 9/11 [03:57<00:47, 23.84s/it]\u001b[A\n",
      " 91%|█████████ | 10/11 [04:08<00:19, 19.70s/it]\u001b[A\n",
      "100%|██████████| 11/11 [04:33<00:00, 24.86s/it]\u001b[A\n",
      " 47%|████▋     | 7/15 [39:32<49:13, 369.19s/it]  \n",
      "  0%|          | 0/9 [00:00<?, ?it/s]\u001b[A"
     ]
    },
    {
     "name": "stdout",
     "output_type": "stream",
     "text": [
      "Track-ID not found error\n"
     ]
    },
    {
     "name": "stderr",
     "output_type": "stream",
     "text": [
      "\n",
      " 22%|██▏       | 2/9 [00:29<01:44, 14.95s/it]\u001b[A\n",
      " 33%|███▎      | 3/9 [01:09<02:31, 25.24s/it]\u001b[A\n",
      " 44%|████▍     | 4/9 [01:49<02:33, 30.78s/it]\u001b[A\n",
      " 56%|█████▌    | 5/9 [02:29<02:16, 34.03s/it]\u001b[A\n",
      " 67%|██████▋   | 6/9 [03:02<01:40, 33.50s/it]\u001b[A\n",
      " 78%|███████▊  | 7/9 [03:33<01:05, 32.84s/it]\u001b[A\n",
      " 89%|████████▉ | 8/9 [04:13<00:35, 35.20s/it]\u001b[A\n",
      "100%|██████████| 9/9 [04:33<00:00, 30.44s/it]\u001b[A\n",
      " 53%|█████▎    | 8/15 [44:06<39:32, 338.89s/it]\n",
      "  0%|          | 0/7 [00:00<?, ?it/s]\u001b[A\n",
      " 14%|█▍        | 1/7 [00:25<02:31, 25.21s/it]\u001b[A\n",
      " 29%|██▊       | 2/7 [01:04<02:48, 33.63s/it]\u001b[A\n",
      " 43%|████▎     | 3/7 [01:28<01:56, 29.08s/it]\u001b[A\n",
      " 57%|█████▋    | 4/7 [02:08<01:40, 33.40s/it]\u001b[A\n",
      " 71%|███████▏  | 5/7 [02:45<01:09, 34.63s/it]\u001b[A\n",
      " 86%|████████▌ | 6/7 [02:56<00:26, 26.58s/it]\u001b[A\n",
      "100%|██████████| 7/7 [03:35<00:00, 30.85s/it]\u001b[A\n",
      " 60%|██████    | 9/15 [47:42<30:03, 300.53s/it]\n",
      "  0%|          | 0/5 [00:00<?, ?it/s]\u001b[A\n",
      " 20%|██        | 1/5 [00:41<02:45, 41.43s/it]\u001b[A\n",
      " 40%|████      | 2/5 [01:03<01:30, 30.24s/it]\u001b[A\n",
      " 60%|██████    | 3/5 [01:43<01:09, 34.56s/it]\u001b[A\n",
      " 80%|████████  | 4/5 [02:23<00:36, 36.69s/it]\u001b[A\n",
      "100%|██████████| 5/5 [03:03<00:00, 36.63s/it]\u001b[A\n",
      " 67%|██████▋   | 10/15 [50:45<22:01, 264.34s/it]\n",
      "  0%|          | 0/15 [00:00<?, ?it/s]\u001b[A\n",
      "  7%|▋         | 1/15 [00:38<09:04, 38.87s/it]\u001b[A\n",
      " 13%|█▎        | 2/15 [01:19<08:36, 39.70s/it]\u001b[A\n",
      " 20%|██        | 3/15 [01:59<08:01, 40.08s/it]\u001b[A\n",
      " 27%|██▋       | 4/15 [02:39<07:20, 40.02s/it]\u001b[A\n",
      " 33%|███▎      | 5/15 [03:09<06:04, 36.46s/it]\u001b[A\n",
      " 40%|████      | 6/15 [03:50<05:39, 37.75s/it]\u001b[A\n",
      " 47%|████▋     | 7/15 [04:30<05:08, 38.52s/it]\u001b[A\n",
      " 53%|█████▎    | 8/15 [05:10<04:34, 39.22s/it]\u001b[A\n",
      " 60%|██████    | 9/15 [05:49<03:53, 38.95s/it]\u001b[A\n",
      " 67%|██████▋   | 10/15 [06:09<02:45, 33.19s/it]\u001b[A\n",
      " 73%|███████▎  | 11/15 [06:39<02:09, 32.31s/it]\u001b[A\n",
      " 80%|████████  | 12/15 [07:07<01:33, 31.02s/it]\u001b[A\n",
      " 87%|████████▋ | 13/15 [07:46<01:06, 33.26s/it]\u001b[A\n",
      " 93%|█████████▎| 14/15 [08:06<00:29, 29.43s/it]\u001b[A\n",
      "100%|██████████| 15/15 [08:47<00:00, 35.14s/it]\u001b[A\n",
      " 73%|███████▎  | 11/15 [59:32<22:59, 344.82s/it]\n",
      "  0%|          | 0/13 [00:00<?, ?it/s]\u001b[A\n",
      "  8%|▊         | 1/13 [00:39<07:53, 39.43s/it]\u001b[A\n",
      " 15%|█▌        | 2/13 [01:11<06:25, 35.06s/it]\u001b[A\n",
      " 23%|██▎       | 3/13 [01:50<06:10, 37.07s/it]\u001b[A\n",
      " 31%|███       | 4/13 [02:31<05:45, 38.35s/it]\u001b[A\n",
      " 38%|███▊      | 5/13 [03:02<04:45, 35.69s/it]\u001b[A\n",
      " 46%|████▌     | 6/13 [03:22<03:34, 30.61s/it]\u001b[A\n",
      " 54%|█████▍    | 7/13 [03:44<02:45, 27.61s/it]\u001b[A\n",
      " 62%|██████▏   | 8/13 [04:08<02:12, 26.54s/it]\u001b[A\n",
      " 69%|██████▉   | 9/13 [04:48<02:02, 30.56s/it]\u001b[A\n",
      " 77%|███████▋  | 10/13 [05:24<01:36, 32.31s/it]\u001b[A\n",
      " 85%|████████▍ | 11/13 [05:51<01:01, 30.92s/it]\u001b[A\n",
      " 92%|█████████▏| 12/13 [06:03<00:25, 25.12s/it]\u001b[A\n",
      "100%|██████████| 13/13 [06:44<00:00, 31.12s/it]\u001b[A\n",
      " 80%|████████  | 12/15 [1:06:17<18:09, 363.01s/it]\n",
      "  0%|          | 0/10 [00:00<?, ?it/s]\u001b[A\n",
      " 10%|█         | 1/10 [00:40<06:01, 40.15s/it]\u001b[A\n",
      " 20%|██        | 2/10 [01:19<05:18, 39.81s/it]\u001b[A\n",
      " 30%|███       | 3/10 [02:00<04:40, 40.09s/it]\u001b[A\n",
      " 40%|████      | 4/10 [02:34<03:46, 37.70s/it]\u001b[A\n",
      " 50%|█████     | 5/10 [03:04<02:54, 34.97s/it]\u001b[A\n",
      " 60%|██████    | 6/10 [03:45<02:28, 37.07s/it]\u001b[A\n",
      " 70%|███████   | 7/10 [04:25<01:53, 37.93s/it]\u001b[A\n",
      " 80%|████████  | 8/10 [05:00<01:14, 37.11s/it]\u001b[A\n",
      " 90%|█████████ | 9/10 [05:24<00:33, 33.14s/it]\u001b[A\n",
      "100%|██████████| 10/10 [05:37<00:00, 33.72s/it]\u001b[A\n",
      " 87%|████████▋ | 13/15 [1:11:54<11:50, 355.22s/it]\n",
      "  0%|          | 0/2 [00:00<?, ?it/s]\u001b[A\n",
      " 50%|█████     | 1/2 [00:17<00:17, 17.67s/it]\u001b[A\n",
      "100%|██████████| 2/2 [00:57<00:00, 29.00s/it]\u001b[A\n",
      " 93%|█████████▎| 14/15 [1:12:52<04:25, 265.49s/it]\n",
      "  0%|          | 0/8 [00:00<?, ?it/s]\u001b[A\n",
      " 12%|█▎        | 1/8 [00:40<04:41, 40.15s/it]\u001b[A\n",
      " 25%|██▌       | 2/8 [01:19<03:58, 39.79s/it]\u001b[A\n",
      " 38%|███▊      | 3/8 [01:51<02:59, 36.00s/it]\u001b[A\n",
      " 50%|█████     | 4/8 [02:31<02:30, 37.54s/it]\u001b[A\n",
      " 62%|██████▎   | 5/8 [02:51<01:34, 31.38s/it]\u001b[A\n",
      " 75%|███████▌  | 6/8 [03:31<01:08, 34.32s/it]\u001b[A\n",
      " 88%|████████▊ | 7/8 [04:11<00:36, 36.24s/it]\u001b[A\n",
      "100%|██████████| 8/8 [04:33<00:00, 34.24s/it]\u001b[A\n",
      "100%|██████████| 15/15 [1:17:27<00:00, 309.80s/it]\n"
     ]
    }
   ],
   "source": [
    "spotifydf = pd.DataFrame()\n",
    "artistdf = pd.DataFrame()\n",
    "track_lst = []\n",
    "artist_1 = []\n",
    "artist_2 = []\n",
    "\n",
    "#looping through categories\n",
    "try:\n",
    "    for category in tqdm(sp.categories(limit=15)['categories']['items']):\n",
    "\n",
    "        #looping through playlists, ignoring ids that do not exist\n",
    "        try:\n",
    "            for playlist in sp.category_playlists(category_id=category['id'], country=None, limit=15, offset=0)['playlists']['items']:\n",
    "\n",
    "                #looping through tracks, ignoring ids that do not exist\n",
    "                try:\n",
    "                    for tracks in sp.playlist_tracks(playlist['id'])['items']:\n",
    "                        ids = tracks['track']['id']\n",
    "\n",
    "                        #adding rows of audio_features\n",
    "                        spotifydf = spotifydf.append(sp.audio_features(tracks['track']['id']))\n",
    "\n",
    "                        #lst of track names\n",
    "                        track_lst.append(sp.track(ids)['name'])\n",
    "\n",
    "                        #lst of artist 1\n",
    "                        artist_1.append(sp.track(ids)['artists'][0]['name'])\n",
    "\n",
    "                        #lst of artist 2\n",
    "                        try: artist_2.append(sp.track(ids)['artists'][1]['name'])\n",
    "                        except: artist_2.append(None)\n",
    "                except:\n",
    "                    print('Track-ID not found error')\n",
    "                    pass\n",
    "        except:\n",
    "            print('Playlist-ID not found error')\n",
    "            pass\n",
    "                    \n",
    "except requests.exceptions.ReadTimeout:\n",
    "    print(\"ReadTimeout\")\n",
    "\n",
    "finally: \n",
    "    spotifydf['track_names'] = track_lst\n",
    "    spotifydf['artist_1'] = artist_1\n",
    "    spotifydf['artist_2'] = artist_2"
   ]
  },
  {
   "cell_type": "code",
   "execution_count": 15,
   "id": "worthy-stephen",
   "metadata": {},
   "outputs": [
    {
     "data": {
      "text/plain": [
       "11604"
      ]
     },
     "execution_count": 15,
     "metadata": {},
     "output_type": "execute_result"
    }
   ],
   "source": [
    "len(spotifydf)"
   ]
  },
  {
   "cell_type": "code",
   "execution_count": 16,
   "id": "advised-forwarding",
   "metadata": {},
   "outputs": [],
   "source": [
    "# Extracting to CSV\n",
    "spotifydf.to_csv('spotifydf.csv')"
   ]
  },
  {
   "cell_type": "code",
   "execution_count": null,
   "id": "surprising-england",
   "metadata": {},
   "outputs": [],
   "source": []
  }
 ],
 "metadata": {
  "kernelspec": {
   "display_name": "Python 3",
   "language": "python",
   "name": "python3"
  },
  "language_info": {
   "codemirror_mode": {
    "name": "ipython",
    "version": 3
   },
   "file_extension": ".py",
   "mimetype": "text/x-python",
   "name": "python",
   "nbconvert_exporter": "python",
   "pygments_lexer": "ipython3",
   "version": "3.9.2"
  },
  "toc": {
   "base_numbering": 1,
   "nav_menu": {},
   "number_sections": true,
   "sideBar": true,
   "skip_h1_title": false,
   "title_cell": "Table of Contents",
   "title_sidebar": "Contents",
   "toc_cell": false,
   "toc_position": {},
   "toc_section_display": true,
   "toc_window_display": false
  }
 },
 "nbformat": 4,
 "nbformat_minor": 5
}
