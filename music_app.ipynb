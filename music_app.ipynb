{
 "cells": [
  {
   "cell_type": "markdown",
   "id": "elegant-marker",
   "metadata": {},
   "source": [
    "Improvements\n",
    "- additional artist\n",
    "- better regex filter\n",
    "- making function to filter spotify more readable\n",
    "- User input programm flow"
   ]
  },
  {
   "cell_type": "code",
   "execution_count": null,
   "id": "imported-treasure",
   "metadata": {},
   "outputs": [],
   "source": [
    "# Import libraries"
   ]
  },
  {
   "cell_type": "code",
   "execution_count": 1,
   "id": "generic-helicopter",
   "metadata": {},
   "outputs": [],
   "source": []
  },
  {
   "cell_type": "markdown",
   "id": "daily-curtis",
   "metadata": {},
   "source": [
    "# Scrape Billboard Top 100"
   ]
  },
  {
   "cell_type": "markdown",
   "id": "comprehensive-leeds",
   "metadata": {},
   "source": [
    "## Parse HTML Page"
   ]
  },
  {
   "cell_type": "code",
   "execution_count": 79,
   "id": "virgin-database",
   "metadata": {},
   "outputs": [],
   "source": [
    "import requests\n",
    "import pandas as pd\n",
    "from bs4 import BeautifulSoup\n",
    "\n",
    "url = 'https://www.billboard.com/charts/hot-100'\n",
    "response = requests.get(url)\n",
    "soup = BeautifulSoup(response.content, 'html.parser')"
   ]
  },
  {
   "cell_type": "code",
   "execution_count": 3,
   "id": "christian-polymer",
   "metadata": {},
   "outputs": [
    {
     "data": {
      "text/plain": [
       "'Leave The Door Open'"
      ]
     },
     "execution_count": 3,
     "metadata": {},
     "output_type": "execute_result"
    }
   ],
   "source": [
    "soup.select('span.chart-element__information__song')[1].text"
   ]
  },
  {
   "cell_type": "markdown",
   "id": "nutritional-strategy",
   "metadata": {},
   "source": [
    "## Extract Data"
   ]
  },
  {
   "cell_type": "code",
   "execution_count": 4,
   "id": "rolled-detroit",
   "metadata": {},
   "outputs": [],
   "source": [
    "#song_names\n",
    "song_lst = []\n",
    "song_names = soup.select('span.chart-element__information__song')\n",
    "\n",
    "for song in song_names:\n",
    "    song_lst.append(song.text)"
   ]
  },
  {
   "cell_type": "code",
   "execution_count": 5,
   "id": "sophisticated-reply",
   "metadata": {},
   "outputs": [],
   "source": [
    "#artist_names\n",
    "artist_lst = []\n",
    "artist_names = soup.select('span.chart-element__information__artist')\n",
    "\n",
    "for artist in artist_names:\n",
    "    artist_lst.append(artist.text)"
   ]
  },
  {
   "cell_type": "code",
   "execution_count": 6,
   "id": "handled-orientation",
   "metadata": {},
   "outputs": [],
   "source": [
    "#ranking\n",
    "ranking_lst = []\n",
    "ranking_names = soup.select('span.chart-element__rank__number')\n",
    "\n",
    "for rank in ranking_names:\n",
    "    ranking_lst.append(rank.text)"
   ]
  },
  {
   "cell_type": "markdown",
   "id": "lovely-greek",
   "metadata": {},
   "source": [
    "## Convert to DataFrame and save"
   ]
  },
  {
   "cell_type": "code",
   "execution_count": 7,
   "id": "oriented-wallace",
   "metadata": {},
   "outputs": [],
   "source": [
    "billboard_top = pd.DataFrame({'rank':ranking_lst, 'artist': artist_lst, 'song': song_lst})"
   ]
  },
  {
   "cell_type": "code",
   "execution_count": 8,
   "id": "italic-updating",
   "metadata": {},
   "outputs": [
    {
     "data": {
      "text/html": [
       "<div>\n",
       "<style scoped>\n",
       "    .dataframe tbody tr th:only-of-type {\n",
       "        vertical-align: middle;\n",
       "    }\n",
       "\n",
       "    .dataframe tbody tr th {\n",
       "        vertical-align: top;\n",
       "    }\n",
       "\n",
       "    .dataframe thead th {\n",
       "        text-align: right;\n",
       "    }\n",
       "</style>\n",
       "<table border=\"1\" class=\"dataframe\">\n",
       "  <thead>\n",
       "    <tr style=\"text-align: right;\">\n",
       "      <th></th>\n",
       "      <th>rank</th>\n",
       "      <th>artist</th>\n",
       "      <th>song</th>\n",
       "    </tr>\n",
       "  </thead>\n",
       "  <tbody>\n",
       "    <tr>\n",
       "      <th>0</th>\n",
       "      <td>1</td>\n",
       "      <td>The Weeknd &amp; Ariana Grande</td>\n",
       "      <td>Save Your Tears</td>\n",
       "    </tr>\n",
       "    <tr>\n",
       "      <th>1</th>\n",
       "      <td>2</td>\n",
       "      <td>Silk Sonic (Bruno Mars &amp; Anderson .Paak)</td>\n",
       "      <td>Leave The Door Open</td>\n",
       "    </tr>\n",
       "    <tr>\n",
       "      <th>2</th>\n",
       "      <td>3</td>\n",
       "      <td>Justin Bieber Featuring Daniel Caesar &amp; Giveon</td>\n",
       "      <td>Peaches</td>\n",
       "    </tr>\n",
       "    <tr>\n",
       "      <th>3</th>\n",
       "      <td>4</td>\n",
       "      <td>Polo G</td>\n",
       "      <td>Rapstar</td>\n",
       "    </tr>\n",
       "    <tr>\n",
       "      <th>4</th>\n",
       "      <td>5</td>\n",
       "      <td>Dua Lipa Featuring DaBaby</td>\n",
       "      <td>Levitating</td>\n",
       "    </tr>\n",
       "  </tbody>\n",
       "</table>\n",
       "</div>"
      ],
      "text/plain": [
       "  rank                                          artist                 song\n",
       "0    1                      The Weeknd & Ariana Grande      Save Your Tears\n",
       "1    2        Silk Sonic (Bruno Mars & Anderson .Paak)  Leave The Door Open\n",
       "2    3  Justin Bieber Featuring Daniel Caesar & Giveon              Peaches\n",
       "3    4                                          Polo G              Rapstar\n",
       "4    5                       Dua Lipa Featuring DaBaby           Levitating"
      ]
     },
     "execution_count": 8,
     "metadata": {},
     "output_type": "execute_result"
    }
   ],
   "source": [
    "billboard_top.head()"
   ]
  },
  {
   "cell_type": "code",
   "execution_count": 9,
   "id": "liquid-knight",
   "metadata": {},
   "outputs": [],
   "source": [
    "billboard_top.to_csv('billboard_top.csv')"
   ]
  },
  {
   "cell_type": "markdown",
   "id": "bizarre-sellers",
   "metadata": {},
   "source": [
    "# User input validation"
   ]
  },
  {
   "cell_type": "code",
   "execution_count": 20,
   "id": "subjective-survivor",
   "metadata": {
    "scrolled": false
   },
   "outputs": [
    {
     "name": "stdout",
     "output_type": "stream",
     "text": [
      "Artist: Polo\n",
      "Song: Peaches\n",
      "Not\n"
     ]
    }
   ],
   "source": [
    "import re\n",
    "\n",
    "artist_name = input('Artist: ')\n",
    "if not re.match(\".{4,}\", artist_name):\n",
    "        print (\"Please enter a valid artist\")\n",
    "        artist_name = \"9999999999xxxx\"\n",
    "        \n",
    "song = input('Song: ')\n",
    "if not re.match(\".{4,}\", artist_name):\n",
    "        print (\"Please enter a valid artist\")\n",
    "        song = \"9999999999xxxx\"\n",
    "print(hot_or_not(artist_name, song))"
   ]
  },
  {
   "cell_type": "code",
   "execution_count": null,
   "id": "growing-benefit",
   "metadata": {},
   "outputs": [],
   "source": [
    "def hot_or_not (artist, song):\n",
    "    '''\n",
    "    function determines if artist is in the scraped database\n",
    "    '''\n",
    "    contains_artist = billboard_top['artist'].str.contains(artist_name)\n",
    "    contains_title = billboard_top['song'].str.contains(song)\n",
    "    results = pd.DataFrame({'contains_artist': contains_artist, 'contains_title': contains_title, \"match\": contains_artist & contains_title})\n",
    "\n",
    "    if results['match'].any():\n",
    "        s = 'Hot'\n",
    "    else:\n",
    "        s = 'Not'\n",
    "    return s"
   ]
  },
  {
   "cell_type": "markdown",
   "id": "atmospheric-accused",
   "metadata": {},
   "source": [
    "# Creating Dataframe from Spotify Wrapper"
   ]
  },
  {
   "cell_type": "code",
   "execution_count": 78,
   "id": "virgin-therapy",
   "metadata": {},
   "outputs": [],
   "source": [
    "import spotipy\n",
    "from spotipy.oauth2 import SpotifyClientCredentials\n",
    "import getpass\n",
    "import pandas as pd\n",
    "\n",
    "sp = spotipy.Spotify(auth_manager=SpotifyClientCredentials(client_id=\"7ac25cd2df894d4587f18918f0776908\",\n",
    "                                                           client_secret=\"947331b0345946ef847d79f23802ee84\"))"
   ]
  },
  {
   "cell_type": "code",
   "execution_count": null,
   "id": "gross-brook",
   "metadata": {
    "scrolled": false
   },
   "outputs": [],
   "source": [
    "spotifydf = pd.DataFrame()\n",
    "artistdf = pd.DataFrame()\n",
    "track_lst = []\n",
    "artist_1 = []\n",
    "artist_2 = []\n",
    "\n",
    "#looping through categories\n",
    "for category in tqdm(sp.categories(limit=50)['categories']['items']):\n",
    "    \n",
    "    #looping through playlists\n",
    "    for playlist in tqdm(sp.category_playlists(category_id=category['id'], country=None, limit=50, offset=0)['playlists']['items']):\n",
    "        \n",
    "        #looping through tracks\n",
    "        for tracks in sp.playlist_tracks(playlist['id'])['items']:\n",
    "            ids = tracks['track']['id']\n",
    "            \n",
    "            #adding rows of audio_features\n",
    "            spotifydf = spotifydf.append(sp.audio_features(tracks['track']['id']))\n",
    "            \n",
    "            #lst of track names\n",
    "            track_lst.append(sp.track(ids)['name'])\n",
    "            \n",
    "            #lst of artist 1\n",
    "            artist_1.append(sp.track(ids)['artists'][0]['name'])\n",
    "            \n",
    "            #lst of artist 2\n",
    "            try: artist_2.append(sp.track(ids)['artists'][1]['name'])\n",
    "            except: artist_2.append(None)\n",
    "            \n",
    "spotifydf['track_names'] = track_lst\n",
    "spotifydf['artist_1'] = artist_1\n",
    "spotifydf['artist_2'] = artist_2"
   ]
  },
  {
   "cell_type": "code",
   "execution_count": 81,
   "id": "hundred-ultimate",
   "metadata": {},
   "outputs": [
    {
     "ename": "NameError",
     "evalue": "name 'spotifydf' is not defined",
     "output_type": "error",
     "traceback": [
      "\u001b[0;31m---------------------------------------------------------------------------\u001b[0m",
      "\u001b[0;31mNameError\u001b[0m                                 Traceback (most recent call last)",
      "\u001b[0;32m<ipython-input-81-7bbddc6dceb9>\u001b[0m in \u001b[0;36m<module>\u001b[0;34m\u001b[0m\n\u001b[1;32m      1\u001b[0m \u001b[0;31m# Extracting to CSV\u001b[0m\u001b[0;34m\u001b[0m\u001b[0;34m\u001b[0m\u001b[0;34m\u001b[0m\u001b[0m\n\u001b[0;32m----> 2\u001b[0;31m \u001b[0mspotifydf\u001b[0m\u001b[0;34m.\u001b[0m\u001b[0mto_csv\u001b[0m\u001b[0;34m(\u001b[0m\u001b[0;34m'spotifydf.csv'\u001b[0m\u001b[0;34m)\u001b[0m\u001b[0;34m\u001b[0m\u001b[0;34m\u001b[0m\u001b[0m\n\u001b[0m",
      "\u001b[0;31mNameError\u001b[0m: name 'spotifydf' is not defined"
     ]
    }
   ],
   "source": [
    "# Extracting to CSV\n",
    "spotifydf.to_csv('spotifydf.csv')"
   ]
  },
  {
   "cell_type": "code",
   "execution_count": null,
   "id": "instrumental-excitement",
   "metadata": {},
   "outputs": [],
   "source": []
  }
 ],
 "metadata": {
  "kernelspec": {
   "display_name": "Python 3",
   "language": "python",
   "name": "python3"
  },
  "language_info": {
   "codemirror_mode": {
    "name": "ipython",
    "version": 3
   },
   "file_extension": ".py",
   "mimetype": "text/x-python",
   "name": "python",
   "nbconvert_exporter": "python",
   "pygments_lexer": "ipython3",
   "version": "3.9.2"
  },
  "toc": {
   "base_numbering": 1,
   "nav_menu": {},
   "number_sections": true,
   "sideBar": true,
   "skip_h1_title": false,
   "title_cell": "Table of Contents",
   "title_sidebar": "Contents",
   "toc_cell": false,
   "toc_position": {},
   "toc_section_display": true,
   "toc_window_display": false
  }
 },
 "nbformat": 4,
 "nbformat_minor": 5
}
