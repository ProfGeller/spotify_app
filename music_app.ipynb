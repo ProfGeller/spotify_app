{
 "cells": [
  {
   "cell_type": "markdown",
   "id": "elegant-marker",
   "metadata": {},
   "source": [
    "Improvements\n",
    "- additional artist\n",
    "- better regex filter\n",
    "- making function to filter spotify more readable\n",
    "- User input programm flow\n",
    "- modules to increase readability\n",
    "- silhoutee\n",
    "- write functions for data wrangling"
   ]
  },
  {
   "cell_type": "markdown",
   "id": "daily-curtis",
   "metadata": {},
   "source": [
    "# Scrape Billboard Top 100"
   ]
  },
  {
   "cell_type": "markdown",
   "id": "comprehensive-leeds",
   "metadata": {},
   "source": [
    "## Parse HTML Page"
   ]
  },
  {
   "cell_type": "code",
   "execution_count": null,
   "id": "virgin-database",
   "metadata": {},
   "outputs": [],
   "source": [
    "import requests\n",
    "import pandas as pd\n",
    "from bs4 import BeautifulSoup\n",
    "\n",
    "url = 'https://www.billboard.com/charts/hot-100'\n",
    "response = requests.get(url)\n",
    "soup = BeautifulSoup(response.content, 'html.parser')"
   ]
  },
  {
   "cell_type": "code",
   "execution_count": null,
   "id": "christian-polymer",
   "metadata": {},
   "outputs": [],
   "source": [
    "soup.select('span.chart-element__information__song')[1].text"
   ]
  },
  {
   "cell_type": "markdown",
   "id": "nutritional-strategy",
   "metadata": {},
   "source": [
    "## Extract Data"
   ]
  },
  {
   "cell_type": "code",
   "execution_count": null,
   "id": "rolled-detroit",
   "metadata": {},
   "outputs": [],
   "source": [
    "#song_names\n",
    "song_lst = []\n",
    "song_names = soup.select('span.chart-element__information__song')\n",
    "\n",
    "for song in song_names:\n",
    "    song_lst.append(song.text)"
   ]
  },
  {
   "cell_type": "code",
   "execution_count": null,
   "id": "sophisticated-reply",
   "metadata": {},
   "outputs": [],
   "source": [
    "#artist_names\n",
    "artist_lst = []\n",
    "artist_names = soup.select('span.chart-element__information__artist')\n",
    "\n",
    "for artist in artist_names:\n",
    "    artist_lst.append(artist.text)"
   ]
  },
  {
   "cell_type": "code",
   "execution_count": null,
   "id": "handled-orientation",
   "metadata": {},
   "outputs": [],
   "source": [
    "#ranking\n",
    "ranking_lst = []\n",
    "ranking_names = soup.select('span.chart-element__rank__number')\n",
    "\n",
    "for rank in ranking_names:\n",
    "    ranking_lst.append(rank.text)"
   ]
  },
  {
   "cell_type": "markdown",
   "id": "lovely-greek",
   "metadata": {},
   "source": [
    "## Convert to DataFrame and save"
   ]
  },
  {
   "cell_type": "code",
   "execution_count": null,
   "id": "oriented-wallace",
   "metadata": {},
   "outputs": [],
   "source": [
    "billboard_top = pd.DataFrame({'rank':ranking_lst, 'artist': artist_lst, 'song': song_lst})"
   ]
  },
  {
   "cell_type": "code",
   "execution_count": null,
   "id": "italic-updating",
   "metadata": {},
   "outputs": [],
   "source": [
    "billboard_top.head()"
   ]
  },
  {
   "cell_type": "code",
   "execution_count": null,
   "id": "liquid-knight",
   "metadata": {},
   "outputs": [],
   "source": [
    "billboard_top.to_csv('billboard_top.csv')"
   ]
  },
  {
   "cell_type": "markdown",
   "id": "bizarre-sellers",
   "metadata": {},
   "source": [
    "# User input validation"
   ]
  },
  {
   "cell_type": "code",
   "execution_count": null,
   "id": "metric-campbell",
   "metadata": {},
   "outputs": [],
   "source": [
    "a,b,c=input(\"Enter three inputs \").split()"
   ]
  },
  {
   "cell_type": "code",
   "execution_count": 509,
   "id": "subjective-survivor",
   "metadata": {
    "scrolled": false
   },
   "outputs": [
    {
     "name": "stdout",
     "output_type": "stream",
     "text": [
      "Artist: Cardi B\n",
      "Song: Up\n",
      "True: recommendation process starts...\n"
     ]
    }
   ],
   "source": [
    "import re\n",
    "\n",
    "artist_name = input('Artist: ')\n",
    "if not re.match(\".{4,}\", artist_name):\n",
    "        print (\"Please enter a valid artist\")\n",
    "        artist_name = \"9999999999xxxx\"\n",
    "        \n",
    "song = input('Song: ')\n",
    "if not re.match(\".{4,}\", artist_name):\n",
    "        print (\"Please enter a valid artist\")\n",
    "        song = \"9999999999xxxx\"\n",
    "result = str(hot_or_not(artist_name, song))\n",
    "print(result + ': recommendation process starts...')"
   ]
  },
  {
   "cell_type": "code",
   "execution_count": null,
   "id": "growing-benefit",
   "metadata": {},
   "outputs": [],
   "source": [
    "def hot_or_not (artist, song):\n",
    "    '''\n",
    "    function determines if artist is in the scraped database\n",
    "    '''\n",
    "    contains_artist = billboard_top['artist'].str.contains(artist_name)\n",
    "    contains_title = billboard_top['song'].str.contains(song)\n",
    "    results = pd.DataFrame({'contains_artist': contains_artist, 'contains_title': contains_title, \"match\": contains_artist & contains_title})\n",
    "\n",
    "    if results['match'].any():\n",
    "        s = True\n",
    "    else:\n",
    "        s = False\n",
    "    return s"
   ]
  },
  {
   "cell_type": "markdown",
   "id": "atmospheric-accused",
   "metadata": {},
   "source": [
    "# Creating Dataframe from Spotify Wrapper"
   ]
  },
  {
   "cell_type": "code",
   "execution_count": null,
   "id": "blocked-atlas",
   "metadata": {},
   "outputs": [],
   "source": [
    "import spotipy\n",
    "from spotipy.oauth2 import SpotifyClientCredentials\n",
    "import getpass\n",
    "import pandas as pd\n",
    "from tqdm.notebook import tqdm\n",
    "\n",
    "sp = spotipy.Spotify(auth_manager=SpotifyClientCredentials(client_id=\"7ac25cd2df894d4587f18918f0776908\",\n",
    "                                                           client_secret=\"947331b0345946ef847d79f23802ee84\"))"
   ]
  },
  {
   "cell_type": "code",
   "execution_count": null,
   "id": "gross-brook",
   "metadata": {
    "scrolled": false
   },
   "outputs": [],
   "source": [
    "spotifydf = pd.DataFrame()\n",
    "artistdf = pd.DataFrame()\n",
    "track_lst = []\n",
    "artist_1 = []\n",
    "artist_2 = []\n",
    "\n",
    "#looping through categories\n",
    "try:\n",
    "    for category in tqdm(sp.categories(limit=15)['categories']['items']):\n",
    "\n",
    "        #looping through playlists, ignoring ids that do not exist\n",
    "        try:\n",
    "            for playlist in sp.category_playlists(category_id=category['id'], country=None, limit=15, offset=0)['playlists']['items']:\n",
    "\n",
    "                #looping through tracks, ignoring ids that do not exist\n",
    "                try:\n",
    "                    for tracks in sp.playlist_tracks(playlist['id'])['items']:\n",
    "                        ids = tracks['track']['id']\n",
    "\n",
    "                        #adding rows of audio_features\n",
    "                        spotifydf = spotifydf.append(sp.audio_features(tracks['track']['id']))\n",
    "\n",
    "                        #lst of track names\n",
    "                        track_lst.append(sp.track(ids)['name'])\n",
    "\n",
    "                        #lst of artist 1\n",
    "                        artist_1.append(sp.track(ids)['artists'][0]['name'])\n",
    "\n",
    "                        #lst of artist 2\n",
    "                        try: artist_2.append(sp.track(ids)['artists'][1]['name'])\n",
    "                        except: artist_2.append('')\n",
    "                except:\n",
    "                    print('Track-ID not found error')\n",
    "                    pass\n",
    "        except:\n",
    "            print('Playlist-ID not found error')\n",
    "            pass\n",
    "                    \n",
    "except requests.exceptions.ReadTimeout:\n",
    "    print(\"ReadTimeout\")\n",
    "\n",
    "finally: \n",
    "    spotifydf['track_names'] = track_lst\n",
    "    spotifydf['artist_1'] = artist_1\n",
    "    spotifydf['artist_2'] = artist_2"
   ]
  },
  {
   "cell_type": "code",
   "execution_count": null,
   "id": "simplified-berkeley",
   "metadata": {},
   "outputs": [],
   "source": [
    "len(spotifydf)"
   ]
  },
  {
   "cell_type": "code",
   "execution_count": null,
   "id": "cordless-chair",
   "metadata": {
    "scrolled": true
   },
   "outputs": [],
   "source": [
    "spotifydf.dtypes"
   ]
  },
  {
   "cell_type": "code",
   "execution_count": null,
   "id": "assigned-bottle",
   "metadata": {},
   "outputs": [],
   "source": [
    "spotifydf.head()"
   ]
  },
  {
   "cell_type": "code",
   "execution_count": null,
   "id": "interracial-germany",
   "metadata": {},
   "outputs": [],
   "source": [
    "# Extracting to CSV\n",
    "spotifydf.to_csv('spotifydf.csv')"
   ]
  },
  {
   "cell_type": "code",
   "execution_count": null,
   "id": "spanish-president",
   "metadata": {},
   "outputs": [],
   "source": [
    "df = spotifydf"
   ]
  },
  {
   "cell_type": "markdown",
   "id": "perfect-trance",
   "metadata": {},
   "source": [
    "# Data preparation"
   ]
  },
  {
   "cell_type": "markdown",
   "id": "sitting-railway",
   "metadata": {},
   "source": [
    "- strip unnecessary columns\n",
    "- normalize"
   ]
  },
  {
   "cell_type": "code",
   "execution_count": null,
   "id": "delayed-hungarian",
   "metadata": {},
   "outputs": [],
   "source": [
    "# stripping dataset of unncessary columns\n",
    "df = df.drop([0 , 'analysis_url', 'id', 'track_href', 'type', 'uri'], axis = 1)"
   ]
  },
  {
   "cell_type": "code",
   "execution_count": null,
   "id": "packed-period",
   "metadata": {},
   "outputs": [],
   "source": [
    "# assign index\n",
    "df = df.reset_index(drop=True)"
   ]
  },
  {
   "cell_type": "code",
   "execution_count": null,
   "id": "digital-tragedy",
   "metadata": {
    "scrolled": true
   },
   "outputs": [],
   "source": [
    "df.head()"
   ]
  },
  {
   "cell_type": "code",
   "execution_count": null,
   "id": "arranged-satellite",
   "metadata": {},
   "outputs": [],
   "source": [
    "df.dtypes"
   ]
  },
  {
   "cell_type": "code",
   "execution_count": null,
   "id": "sapphire-times",
   "metadata": {},
   "outputs": [],
   "source": [
    "df.info()"
   ]
  },
  {
   "cell_type": "code",
   "execution_count": null,
   "id": "hollywood-gather",
   "metadata": {},
   "outputs": [],
   "source": [
    "#filling Nulls with empty string, can be removed once new dataset was downloaded\n",
    "df['artist_2']=df['artist_2'].fillna('')"
   ]
  },
  {
   "cell_type": "code",
   "execution_count": null,
   "id": "outer-steering",
   "metadata": {
    "scrolled": false
   },
   "outputs": [],
   "source": [
    "# drop null rows\n",
    "df = df.dropna(axis = 0)"
   ]
  },
  {
   "cell_type": "code",
   "execution_count": null,
   "id": "everyday-touch",
   "metadata": {},
   "outputs": [],
   "source": [
    "df.info()"
   ]
  },
  {
   "cell_type": "markdown",
   "id": "falling-royal",
   "metadata": {},
   "source": [
    "# Applying Model"
   ]
  },
  {
   "cell_type": "code",
   "execution_count": 388,
   "id": "norwegian-welding",
   "metadata": {},
   "outputs": [],
   "source": [
    "# drop categorical columns - track_names, artist1, artist2\n",
    "X_prep = df.select_dtypes(include = ['float64'])"
   ]
  },
  {
   "cell_type": "code",
   "execution_count": 389,
   "id": "automotive-melbourne",
   "metadata": {},
   "outputs": [],
   "source": [
    "# Standardize \n",
    "from sklearn.preprocessing import StandardScaler\n",
    "scaler = StandardScaler().fit(X_prep)\n",
    "X_prep_np = scaler.transform(X_prep)"
   ]
  },
  {
   "cell_type": "code",
   "execution_count": 390,
   "id": "occupational-width",
   "metadata": {},
   "outputs": [],
   "source": [
    "# Transform to dataframe and attach header\n",
    "X_prep_df = pd.DataFrame(X_prep_np, columns=X_prep.columns)"
   ]
  },
  {
   "cell_type": "code",
   "execution_count": null,
   "id": "incredible-broadcast",
   "metadata": {},
   "outputs": [],
   "source": [
    "# Assessing optimum for number of clusters\n",
    "elbow_inertia(50)"
   ]
  },
  {
   "cell_type": "code",
   "execution_count": null,
   "id": "given-lyric",
   "metadata": {},
   "outputs": [],
   "source": [
    "def elbow_inertia(r):\n",
    "    '''\n",
    "    plots the elbow graph for a given number of clusters for k-mean algorithm\n",
    "    '''\n",
    "    K = range(1,r)\n",
    "    inertias = []\n",
    "\n",
    "    for k in K:\n",
    "        kmeans = KMeans(n_clusters = k, random_state=1234)\n",
    "        kmeans.fit(X_prep_df)\n",
    "        inertias.append(kmeans.inertia_)\n",
    "    \n",
    "    import matplotlib.pyplot as plt\n",
    "    plt.plot(K, inertias, 'bx-')\n",
    "    plt.xlabel('# Clusters')\n",
    "    plt.ylabel('Inertia')\n",
    "    plt.title('Elbow Method')\n",
    "    plt.show()"
   ]
  },
  {
   "cell_type": "code",
   "execution_count": 391,
   "id": "copyrighted-significance",
   "metadata": {},
   "outputs": [
    {
     "data": {
      "text/plain": [
       "KMeans(n_clusters=15, random_state=1234)"
      ]
     },
     "execution_count": 391,
     "metadata": {},
     "output_type": "execute_result"
    }
   ],
   "source": [
    "# applying Model\n",
    "from sklearn.cluster import KMeans\n",
    "\n",
    "#setting clusters\n",
    "kmeans = KMeans(n_clusters = 15, random_state=1234)\n",
    "kmeans.fit(X_prep_df)"
   ]
  },
  {
   "cell_type": "code",
   "execution_count": 392,
   "id": "conventional-landscape",
   "metadata": {},
   "outputs": [
    {
     "data": {
      "text/html": [
       "<div>\n",
       "<style scoped>\n",
       "    .dataframe tbody tr th:only-of-type {\n",
       "        vertical-align: middle;\n",
       "    }\n",
       "\n",
       "    .dataframe tbody tr th {\n",
       "        vertical-align: top;\n",
       "    }\n",
       "\n",
       "    .dataframe thead th {\n",
       "        text-align: right;\n",
       "    }\n",
       "</style>\n",
       "<table border=\"1\" class=\"dataframe\">\n",
       "  <thead>\n",
       "    <tr style=\"text-align: right;\">\n",
       "      <th></th>\n",
       "      <th>acousticness</th>\n",
       "      <th>danceability</th>\n",
       "      <th>duration_ms</th>\n",
       "      <th>energy</th>\n",
       "      <th>instrumentalness</th>\n",
       "      <th>key</th>\n",
       "      <th>liveness</th>\n",
       "      <th>loudness</th>\n",
       "      <th>mode</th>\n",
       "      <th>speechiness</th>\n",
       "      <th>tempo</th>\n",
       "      <th>time_signature</th>\n",
       "      <th>valence</th>\n",
       "    </tr>\n",
       "  </thead>\n",
       "  <tbody>\n",
       "    <tr>\n",
       "      <th>0</th>\n",
       "      <td>1.573942</td>\n",
       "      <td>0.293467</td>\n",
       "      <td>0.479716</td>\n",
       "      <td>-0.922321</td>\n",
       "      <td>-0.588607</td>\n",
       "      <td>1.046386</td>\n",
       "      <td>0.506947</td>\n",
       "      <td>-0.439256</td>\n",
       "      <td>-1.282197</td>\n",
       "      <td>-0.070937</td>\n",
       "      <td>0.446439</td>\n",
       "      <td>0.213465</td>\n",
       "      <td>-0.873854</td>\n",
       "    </tr>\n",
       "    <tr>\n",
       "      <th>1</th>\n",
       "      <td>-0.908473</td>\n",
       "      <td>0.370987</td>\n",
       "      <td>-0.329351</td>\n",
       "      <td>0.953944</td>\n",
       "      <td>-0.589531</td>\n",
       "      <td>-1.463931</td>\n",
       "      <td>-0.556853</td>\n",
       "      <td>0.725325</td>\n",
       "      <td>0.779911</td>\n",
       "      <td>-0.597633</td>\n",
       "      <td>0.049210</td>\n",
       "      <td>0.213465</td>\n",
       "      <td>0.623145</td>\n",
       "    </tr>\n",
       "    <tr>\n",
       "      <th>2</th>\n",
       "      <td>0.524576</td>\n",
       "      <td>-0.535027</td>\n",
       "      <td>-0.287499</td>\n",
       "      <td>0.227760</td>\n",
       "      <td>-0.589598</td>\n",
       "      <td>0.488538</td>\n",
       "      <td>2.151840</td>\n",
       "      <td>0.411726</td>\n",
       "      <td>0.779911</td>\n",
       "      <td>0.675397</td>\n",
       "      <td>2.305948</td>\n",
       "      <td>0.213465</td>\n",
       "      <td>1.014667</td>\n",
       "    </tr>\n",
       "    <tr>\n",
       "      <th>3</th>\n",
       "      <td>-0.943451</td>\n",
       "      <td>0.690756</td>\n",
       "      <td>-0.189998</td>\n",
       "      <td>0.915724</td>\n",
       "      <td>-0.586812</td>\n",
       "      <td>0.767462</td>\n",
       "      <td>-0.605278</td>\n",
       "      <td>0.638249</td>\n",
       "      <td>0.779911</td>\n",
       "      <td>-0.526606</td>\n",
       "      <td>0.011855</td>\n",
       "      <td>0.213465</td>\n",
       "      <td>0.538698</td>\n",
       "    </tr>\n",
       "    <tr>\n",
       "      <th>4</th>\n",
       "      <td>-0.898711</td>\n",
       "      <td>0.690756</td>\n",
       "      <td>-0.582303</td>\n",
       "      <td>0.488352</td>\n",
       "      <td>-0.589598</td>\n",
       "      <td>-0.069310</td>\n",
       "      <td>-0.461542</td>\n",
       "      <td>0.576425</td>\n",
       "      <td>0.779911</td>\n",
       "      <td>-0.485082</td>\n",
       "      <td>0.390527</td>\n",
       "      <td>0.213465</td>\n",
       "      <td>-0.340308</td>\n",
       "    </tr>\n",
       "    <tr>\n",
       "      <th>...</th>\n",
       "      <td>...</td>\n",
       "      <td>...</td>\n",
       "      <td>...</td>\n",
       "      <td>...</td>\n",
       "      <td>...</td>\n",
       "      <td>...</td>\n",
       "      <td>...</td>\n",
       "      <td>...</td>\n",
       "      <td>...</td>\n",
       "      <td>...</td>\n",
       "      <td>...</td>\n",
       "      <td>...</td>\n",
       "      <td>...</td>\n",
       "    </tr>\n",
       "    <tr>\n",
       "      <th>11597</th>\n",
       "      <td>-0.644097</td>\n",
       "      <td>0.947541</td>\n",
       "      <td>0.057721</td>\n",
       "      <td>-0.050205</td>\n",
       "      <td>-0.589598</td>\n",
       "      <td>0.767462</td>\n",
       "      <td>-0.938868</td>\n",
       "      <td>0.472306</td>\n",
       "      <td>0.779911</td>\n",
       "      <td>-0.580150</td>\n",
       "      <td>0.050069</td>\n",
       "      <td>0.213465</td>\n",
       "      <td>1.862966</td>\n",
       "    </tr>\n",
       "    <tr>\n",
       "      <th>11598</th>\n",
       "      <td>-0.459713</td>\n",
       "      <td>0.748896</td>\n",
       "      <td>1.011934</td>\n",
       "      <td>0.370217</td>\n",
       "      <td>-0.589592</td>\n",
       "      <td>1.604234</td>\n",
       "      <td>0.991191</td>\n",
       "      <td>0.479521</td>\n",
       "      <td>-1.282197</td>\n",
       "      <td>0.391288</td>\n",
       "      <td>-0.914601</td>\n",
       "      <td>0.213465</td>\n",
       "      <td>0.949413</td>\n",
       "    </tr>\n",
       "    <tr>\n",
       "      <th>11599</th>\n",
       "      <td>-0.692905</td>\n",
       "      <td>0.923316</td>\n",
       "      <td>2.407483</td>\n",
       "      <td>0.536996</td>\n",
       "      <td>-0.589071</td>\n",
       "      <td>0.488538</td>\n",
       "      <td>-0.723648</td>\n",
       "      <td>0.328755</td>\n",
       "      <td>0.779911</td>\n",
       "      <td>-0.117925</td>\n",
       "      <td>-1.341968</td>\n",
       "      <td>0.213465</td>\n",
       "      <td>1.893674</td>\n",
       "    </tr>\n",
       "    <tr>\n",
       "      <th>11600</th>\n",
       "      <td>-0.730053</td>\n",
       "      <td>0.177187</td>\n",
       "      <td>-0.071976</td>\n",
       "      <td>0.276404</td>\n",
       "      <td>-0.589598</td>\n",
       "      <td>-0.906082</td>\n",
       "      <td>1.529241</td>\n",
       "      <td>0.250511</td>\n",
       "      <td>-1.282197</td>\n",
       "      <td>2.390984</td>\n",
       "      <td>1.831913</td>\n",
       "      <td>0.213465</td>\n",
       "      <td>0.899513</td>\n",
       "    </tr>\n",
       "    <tr>\n",
       "      <th>11601</th>\n",
       "      <td>-0.646809</td>\n",
       "      <td>1.092891</td>\n",
       "      <td>-0.155105</td>\n",
       "      <td>0.818436</td>\n",
       "      <td>-0.589598</td>\n",
       "      <td>1.046386</td>\n",
       "      <td>0.130313</td>\n",
       "      <td>0.823223</td>\n",
       "      <td>0.779911</td>\n",
       "      <td>1.265472</td>\n",
       "      <td>0.942194</td>\n",
       "      <td>0.213465</td>\n",
       "      <td>2.051050</td>\n",
       "    </tr>\n",
       "  </tbody>\n",
       "</table>\n",
       "<p>11602 rows × 13 columns</p>\n",
       "</div>"
      ],
      "text/plain": [
       "       acousticness  danceability  duration_ms    energy  instrumentalness  \\\n",
       "0          1.573942      0.293467     0.479716 -0.922321         -0.588607   \n",
       "1         -0.908473      0.370987    -0.329351  0.953944         -0.589531   \n",
       "2          0.524576     -0.535027    -0.287499  0.227760         -0.589598   \n",
       "3         -0.943451      0.690756    -0.189998  0.915724         -0.586812   \n",
       "4         -0.898711      0.690756    -0.582303  0.488352         -0.589598   \n",
       "...             ...           ...          ...       ...               ...   \n",
       "11597     -0.644097      0.947541     0.057721 -0.050205         -0.589598   \n",
       "11598     -0.459713      0.748896     1.011934  0.370217         -0.589592   \n",
       "11599     -0.692905      0.923316     2.407483  0.536996         -0.589071   \n",
       "11600     -0.730053      0.177187    -0.071976  0.276404         -0.589598   \n",
       "11601     -0.646809      1.092891    -0.155105  0.818436         -0.589598   \n",
       "\n",
       "            key  liveness  loudness      mode  speechiness     tempo  \\\n",
       "0      1.046386  0.506947 -0.439256 -1.282197    -0.070937  0.446439   \n",
       "1     -1.463931 -0.556853  0.725325  0.779911    -0.597633  0.049210   \n",
       "2      0.488538  2.151840  0.411726  0.779911     0.675397  2.305948   \n",
       "3      0.767462 -0.605278  0.638249  0.779911    -0.526606  0.011855   \n",
       "4     -0.069310 -0.461542  0.576425  0.779911    -0.485082  0.390527   \n",
       "...         ...       ...       ...       ...          ...       ...   \n",
       "11597  0.767462 -0.938868  0.472306  0.779911    -0.580150  0.050069   \n",
       "11598  1.604234  0.991191  0.479521 -1.282197     0.391288 -0.914601   \n",
       "11599  0.488538 -0.723648  0.328755  0.779911    -0.117925 -1.341968   \n",
       "11600 -0.906082  1.529241  0.250511 -1.282197     2.390984  1.831913   \n",
       "11601  1.046386  0.130313  0.823223  0.779911     1.265472  0.942194   \n",
       "\n",
       "       time_signature   valence  \n",
       "0            0.213465 -0.873854  \n",
       "1            0.213465  0.623145  \n",
       "2            0.213465  1.014667  \n",
       "3            0.213465  0.538698  \n",
       "4            0.213465 -0.340308  \n",
       "...               ...       ...  \n",
       "11597        0.213465  1.862966  \n",
       "11598        0.213465  0.949413  \n",
       "11599        0.213465  1.893674  \n",
       "11600        0.213465  0.899513  \n",
       "11601        0.213465  2.051050  \n",
       "\n",
       "[11602 rows x 13 columns]"
      ]
     },
     "execution_count": 392,
     "metadata": {},
     "output_type": "execute_result"
    }
   ],
   "source": [
    "X_prep_df"
   ]
  },
  {
   "cell_type": "markdown",
   "id": "animal-pledge",
   "metadata": {},
   "source": [
    "- Silhouette vizualisation"
   ]
  },
  {
   "cell_type": "code",
   "execution_count": 393,
   "id": "ambient-insulation",
   "metadata": {},
   "outputs": [],
   "source": [
    "#add clusters to initial spotify dataset\n",
    "clusters = kmeans.predict(X_prep_df)"
   ]
  },
  {
   "cell_type": "code",
   "execution_count": null,
   "id": "pending-accounting",
   "metadata": {},
   "outputs": [],
   "source": [
    "df['clusters'] = clusters"
   ]
  },
  {
   "cell_type": "code",
   "execution_count": 396,
   "id": "mighty-sunrise",
   "metadata": {},
   "outputs": [
    {
     "data": {
      "text/html": [
       "<div>\n",
       "<style scoped>\n",
       "    .dataframe tbody tr th:only-of-type {\n",
       "        vertical-align: middle;\n",
       "    }\n",
       "\n",
       "    .dataframe tbody tr th {\n",
       "        vertical-align: top;\n",
       "    }\n",
       "\n",
       "    .dataframe thead th {\n",
       "        text-align: right;\n",
       "    }\n",
       "</style>\n",
       "<table border=\"1\" class=\"dataframe\">\n",
       "  <thead>\n",
       "    <tr style=\"text-align: right;\">\n",
       "      <th></th>\n",
       "      <th>acousticness</th>\n",
       "      <th>danceability</th>\n",
       "      <th>duration_ms</th>\n",
       "      <th>energy</th>\n",
       "      <th>instrumentalness</th>\n",
       "      <th>key</th>\n",
       "      <th>liveness</th>\n",
       "      <th>loudness</th>\n",
       "      <th>mode</th>\n",
       "      <th>speechiness</th>\n",
       "      <th>tempo</th>\n",
       "      <th>time_signature</th>\n",
       "      <th>valence</th>\n",
       "      <th>track_names</th>\n",
       "      <th>artist_1</th>\n",
       "      <th>artist_2</th>\n",
       "      <th>clusters</th>\n",
       "    </tr>\n",
       "  </thead>\n",
       "  <tbody>\n",
       "    <tr>\n",
       "      <th>0</th>\n",
       "      <td>0.93700</td>\n",
       "      <td>0.634</td>\n",
       "      <td>245897.0</td>\n",
       "      <td>0.285</td>\n",
       "      <td>0.000359</td>\n",
       "      <td>9.0</td>\n",
       "      <td>0.2320</td>\n",
       "      <td>-14.007</td>\n",
       "      <td>0.0</td>\n",
       "      <td>0.0807</td>\n",
       "      <td>129.650</td>\n",
       "      <td>4.0</td>\n",
       "      <td>0.203</td>\n",
       "      <td>Your Power</td>\n",
       "      <td>Billie Eilish</td>\n",
       "      <td></td>\n",
       "      <td>13</td>\n",
       "    </tr>\n",
       "    <tr>\n",
       "      <th>1</th>\n",
       "      <td>0.02150</td>\n",
       "      <td>0.650</td>\n",
       "      <td>191014.0</td>\n",
       "      <td>0.825</td>\n",
       "      <td>0.000024</td>\n",
       "      <td>0.0</td>\n",
       "      <td>0.0936</td>\n",
       "      <td>-4.645</td>\n",
       "      <td>1.0</td>\n",
       "      <td>0.0325</td>\n",
       "      <td>118.091</td>\n",
       "      <td>4.0</td>\n",
       "      <td>0.593</td>\n",
       "      <td>Save Your Tears (with Ariana Grande) (Remix)</td>\n",
       "      <td>The Weeknd</td>\n",
       "      <td>Ariana Grande</td>\n",
       "      <td>9</td>\n",
       "    </tr>\n",
       "    <tr>\n",
       "      <th>2</th>\n",
       "      <td>0.55000</td>\n",
       "      <td>0.463</td>\n",
       "      <td>193853.0</td>\n",
       "      <td>0.616</td>\n",
       "      <td>0.000000</td>\n",
       "      <td>7.0</td>\n",
       "      <td>0.4460</td>\n",
       "      <td>-7.166</td>\n",
       "      <td>1.0</td>\n",
       "      <td>0.1490</td>\n",
       "      <td>183.760</td>\n",
       "      <td>4.0</td>\n",
       "      <td>0.695</td>\n",
       "      <td>tystnar i luren</td>\n",
       "      <td>Miriam Bryant</td>\n",
       "      <td>Victor Leksell</td>\n",
       "      <td>6</td>\n",
       "    </tr>\n",
       "    <tr>\n",
       "      <th>3</th>\n",
       "      <td>0.00860</td>\n",
       "      <td>0.716</td>\n",
       "      <td>200467.0</td>\n",
       "      <td>0.814</td>\n",
       "      <td>0.001010</td>\n",
       "      <td>8.0</td>\n",
       "      <td>0.0873</td>\n",
       "      <td>-5.345</td>\n",
       "      <td>1.0</td>\n",
       "      <td>0.0390</td>\n",
       "      <td>117.004</td>\n",
       "      <td>4.0</td>\n",
       "      <td>0.571</td>\n",
       "      <td>Nån annan nu</td>\n",
       "      <td>Molly Sandén</td>\n",
       "      <td></td>\n",
       "      <td>0</td>\n",
       "    </tr>\n",
       "    <tr>\n",
       "      <th>4</th>\n",
       "      <td>0.02510</td>\n",
       "      <td>0.716</td>\n",
       "      <td>173855.0</td>\n",
       "      <td>0.691</td>\n",
       "      <td>0.000000</td>\n",
       "      <td>5.0</td>\n",
       "      <td>0.1060</td>\n",
       "      <td>-5.842</td>\n",
       "      <td>1.0</td>\n",
       "      <td>0.0428</td>\n",
       "      <td>128.023</td>\n",
       "      <td>4.0</td>\n",
       "      <td>0.342</td>\n",
       "      <td>Lose my mind</td>\n",
       "      <td>Myra Granberg</td>\n",
       "      <td></td>\n",
       "      <td>0</td>\n",
       "    </tr>\n",
       "    <tr>\n",
       "      <th>5</th>\n",
       "      <td>0.06970</td>\n",
       "      <td>0.532</td>\n",
       "      <td>184615.0</td>\n",
       "      <td>0.754</td>\n",
       "      <td>0.000000</td>\n",
       "      <td>1.0</td>\n",
       "      <td>0.0610</td>\n",
       "      <td>-6.834</td>\n",
       "      <td>0.0</td>\n",
       "      <td>0.2230</td>\n",
       "      <td>90.992</td>\n",
       "      <td>4.0</td>\n",
       "      <td>0.717</td>\n",
       "      <td>VHS - Spotify Studio It’s Hits Recording</td>\n",
       "      <td>Benjamin Ingrosso</td>\n",
       "      <td>Cherrie</td>\n",
       "      <td>2</td>\n",
       "    </tr>\n",
       "    <tr>\n",
       "      <th>6</th>\n",
       "      <td>0.08330</td>\n",
       "      <td>0.689</td>\n",
       "      <td>226268.0</td>\n",
       "      <td>0.706</td>\n",
       "      <td>0.000000</td>\n",
       "      <td>1.0</td>\n",
       "      <td>0.1050</td>\n",
       "      <td>-4.480</td>\n",
       "      <td>0.0</td>\n",
       "      <td>0.0312</td>\n",
       "      <td>106.520</td>\n",
       "      <td>4.0</td>\n",
       "      <td>0.623</td>\n",
       "      <td>Little Bit of Love</td>\n",
       "      <td>Tom Grennan</td>\n",
       "      <td></td>\n",
       "      <td>2</td>\n",
       "    </tr>\n",
       "    <tr>\n",
       "      <th>7</th>\n",
       "      <td>0.45500</td>\n",
       "      <td>0.837</td>\n",
       "      <td>149706.0</td>\n",
       "      <td>0.585</td>\n",
       "      <td>0.000000</td>\n",
       "      <td>2.0</td>\n",
       "      <td>0.0747</td>\n",
       "      <td>-5.690</td>\n",
       "      <td>1.0</td>\n",
       "      <td>0.0554</td>\n",
       "      <td>94.081</td>\n",
       "      <td>4.0</td>\n",
       "      <td>0.726</td>\n",
       "      <td>Ensam</td>\n",
       "      <td>Norlie &amp; KKV</td>\n",
       "      <td></td>\n",
       "      <td>9</td>\n",
       "    </tr>\n",
       "    <tr>\n",
       "      <th>8</th>\n",
       "      <td>0.16900</td>\n",
       "      <td>0.819</td>\n",
       "      <td>183000.0</td>\n",
       "      <td>0.425</td>\n",
       "      <td>0.000000</td>\n",
       "      <td>0.0</td>\n",
       "      <td>0.0560</td>\n",
       "      <td>-4.810</td>\n",
       "      <td>1.0</td>\n",
       "      <td>0.0495</td>\n",
       "      <td>120.040</td>\n",
       "      <td>4.0</td>\n",
       "      <td>0.829</td>\n",
       "      <td>Instruktionsboken</td>\n",
       "      <td>Miss Li</td>\n",
       "      <td></td>\n",
       "      <td>9</td>\n",
       "    </tr>\n",
       "    <tr>\n",
       "      <th>9</th>\n",
       "      <td>0.32100</td>\n",
       "      <td>0.677</td>\n",
       "      <td>198082.0</td>\n",
       "      <td>0.696</td>\n",
       "      <td>0.000000</td>\n",
       "      <td>0.0</td>\n",
       "      <td>0.4200</td>\n",
       "      <td>-6.181</td>\n",
       "      <td>1.0</td>\n",
       "      <td>0.1190</td>\n",
       "      <td>90.030</td>\n",
       "      <td>4.0</td>\n",
       "      <td>0.464</td>\n",
       "      <td>Peaches (feat. Daniel Caesar &amp; Giveon)</td>\n",
       "      <td>Justin Bieber</td>\n",
       "      <td>Daniel Caesar</td>\n",
       "      <td>9</td>\n",
       "    </tr>\n",
       "    <tr>\n",
       "      <th>10</th>\n",
       "      <td>0.00196</td>\n",
       "      <td>0.757</td>\n",
       "      <td>165366.0</td>\n",
       "      <td>0.721</td>\n",
       "      <td>0.000000</td>\n",
       "      <td>4.0</td>\n",
       "      <td>0.6470</td>\n",
       "      <td>-2.906</td>\n",
       "      <td>0.0</td>\n",
       "      <td>0.0691</td>\n",
       "      <td>124.036</td>\n",
       "      <td>4.0</td>\n",
       "      <td>0.364</td>\n",
       "      <td>I DID IT (feat. Post Malone, Megan Thee Stalli...</td>\n",
       "      <td>DJ Khaled</td>\n",
       "      <td>Post Malone</td>\n",
       "      <td>8</td>\n",
       "    </tr>\n",
       "    <tr>\n",
       "      <th>11</th>\n",
       "      <td>0.35500</td>\n",
       "      <td>0.528</td>\n",
       "      <td>196678.0</td>\n",
       "      <td>0.453</td>\n",
       "      <td>0.000001</td>\n",
       "      <td>4.0</td>\n",
       "      <td>0.1040</td>\n",
       "      <td>-9.398</td>\n",
       "      <td>1.0</td>\n",
       "      <td>0.0396</td>\n",
       "      <td>119.761</td>\n",
       "      <td>4.0</td>\n",
       "      <td>0.281</td>\n",
       "      <td>Gone Are The Days (feat. James Gillespie)</td>\n",
       "      <td>Kygo</td>\n",
       "      <td>James Gillespie</td>\n",
       "      <td>13</td>\n",
       "    </tr>\n",
       "    <tr>\n",
       "      <th>12</th>\n",
       "      <td>0.29700</td>\n",
       "      <td>0.610</td>\n",
       "      <td>137876.0</td>\n",
       "      <td>0.508</td>\n",
       "      <td>0.000000</td>\n",
       "      <td>8.0</td>\n",
       "      <td>0.3840</td>\n",
       "      <td>-6.682</td>\n",
       "      <td>0.0</td>\n",
       "      <td>0.1520</td>\n",
       "      <td>178.818</td>\n",
       "      <td>4.0</td>\n",
       "      <td>0.758</td>\n",
       "      <td>MONTERO (Call Me By Your Name)</td>\n",
       "      <td>Lil Nas X</td>\n",
       "      <td></td>\n",
       "      <td>14</td>\n",
       "    </tr>\n",
       "    <tr>\n",
       "      <th>13</th>\n",
       "      <td>0.23500</td>\n",
       "      <td>0.762</td>\n",
       "      <td>208867.0</td>\n",
       "      <td>0.701</td>\n",
       "      <td>0.000158</td>\n",
       "      <td>8.0</td>\n",
       "      <td>0.1230</td>\n",
       "      <td>-3.541</td>\n",
       "      <td>1.0</td>\n",
       "      <td>0.0286</td>\n",
       "      <td>110.968</td>\n",
       "      <td>4.0</td>\n",
       "      <td>0.742</td>\n",
       "      <td>Kiss Me More (feat. SZA)</td>\n",
       "      <td>Doja Cat</td>\n",
       "      <td>SZA</td>\n",
       "      <td>0</td>\n",
       "    </tr>\n",
       "    <tr>\n",
       "      <th>14</th>\n",
       "      <td>0.55100</td>\n",
       "      <td>0.667</td>\n",
       "      <td>169105.0</td>\n",
       "      <td>0.472</td>\n",
       "      <td>0.000000</td>\n",
       "      <td>6.0</td>\n",
       "      <td>0.1130</td>\n",
       "      <td>-6.565</td>\n",
       "      <td>1.0</td>\n",
       "      <td>0.0386</td>\n",
       "      <td>133.997</td>\n",
       "      <td>4.0</td>\n",
       "      <td>0.585</td>\n",
       "      <td>Vi</td>\n",
       "      <td>Junie</td>\n",
       "      <td></td>\n",
       "      <td>0</td>\n",
       "    </tr>\n",
       "    <tr>\n",
       "      <th>15</th>\n",
       "      <td>0.03970</td>\n",
       "      <td>0.488</td>\n",
       "      <td>213400.0</td>\n",
       "      <td>0.535</td>\n",
       "      <td>0.000000</td>\n",
       "      <td>9.0</td>\n",
       "      <td>0.2910</td>\n",
       "      <td>-6.338</td>\n",
       "      <td>1.0</td>\n",
       "      <td>0.0249</td>\n",
       "      <td>76.926</td>\n",
       "      <td>4.0</td>\n",
       "      <td>0.448</td>\n",
       "      <td>Det är nog aldrig för sent för oss två</td>\n",
       "      <td>Thomas Stenström</td>\n",
       "      <td></td>\n",
       "      <td>0</td>\n",
       "    </tr>\n",
       "    <tr>\n",
       "      <th>16</th>\n",
       "      <td>0.17200</td>\n",
       "      <td>0.747</td>\n",
       "      <td>181354.0</td>\n",
       "      <td>0.790</td>\n",
       "      <td>0.000000</td>\n",
       "      <td>0.0</td>\n",
       "      <td>0.3570</td>\n",
       "      <td>-2.233</td>\n",
       "      <td>1.0</td>\n",
       "      <td>0.0474</td>\n",
       "      <td>117.970</td>\n",
       "      <td>4.0</td>\n",
       "      <td>0.615</td>\n",
       "      <td>Look What You've Done</td>\n",
       "      <td>Zara Larsson</td>\n",
       "      <td></td>\n",
       "      <td>9</td>\n",
       "    </tr>\n",
       "    <tr>\n",
       "      <th>17</th>\n",
       "      <td>0.05460</td>\n",
       "      <td>0.834</td>\n",
       "      <td>168601.0</td>\n",
       "      <td>0.678</td>\n",
       "      <td>0.263000</td>\n",
       "      <td>6.0</td>\n",
       "      <td>0.1030</td>\n",
       "      <td>-6.242</td>\n",
       "      <td>0.0</td>\n",
       "      <td>0.0515</td>\n",
       "      <td>121.995</td>\n",
       "      <td>4.0</td>\n",
       "      <td>0.551</td>\n",
       "      <td>Going Dumb</td>\n",
       "      <td>Alesso</td>\n",
       "      <td>CORSAK</td>\n",
       "      <td>14</td>\n",
       "    </tr>\n",
       "    <tr>\n",
       "      <th>18</th>\n",
       "      <td>0.28800</td>\n",
       "      <td>0.444</td>\n",
       "      <td>189000.0</td>\n",
       "      <td>0.648</td>\n",
       "      <td>0.000000</td>\n",
       "      <td>1.0</td>\n",
       "      <td>0.0590</td>\n",
       "      <td>-4.955</td>\n",
       "      <td>1.0</td>\n",
       "      <td>0.0476</td>\n",
       "      <td>125.706</td>\n",
       "      <td>5.0</td>\n",
       "      <td>0.171</td>\n",
       "      <td>Girls Like Us</td>\n",
       "      <td>Zoe Wees</td>\n",
       "      <td></td>\n",
       "      <td>9</td>\n",
       "    </tr>\n",
       "    <tr>\n",
       "      <th>19</th>\n",
       "      <td>0.05990</td>\n",
       "      <td>0.476</td>\n",
       "      <td>141050.0</td>\n",
       "      <td>0.594</td>\n",
       "      <td>0.000000</td>\n",
       "      <td>5.0</td>\n",
       "      <td>0.0785</td>\n",
       "      <td>-6.879</td>\n",
       "      <td>1.0</td>\n",
       "      <td>0.1350</td>\n",
       "      <td>159.702</td>\n",
       "      <td>4.0</td>\n",
       "      <td>0.314</td>\n",
       "      <td>Cover Me In Sunshine</td>\n",
       "      <td>P!nk</td>\n",
       "      <td>Willow Sage Hart</td>\n",
       "      <td>6</td>\n",
       "    </tr>\n",
       "  </tbody>\n",
       "</table>\n",
       "</div>"
      ],
      "text/plain": [
       "    acousticness  danceability  duration_ms  energy  instrumentalness  key  \\\n",
       "0        0.93700         0.634     245897.0   0.285          0.000359  9.0   \n",
       "1        0.02150         0.650     191014.0   0.825          0.000024  0.0   \n",
       "2        0.55000         0.463     193853.0   0.616          0.000000  7.0   \n",
       "3        0.00860         0.716     200467.0   0.814          0.001010  8.0   \n",
       "4        0.02510         0.716     173855.0   0.691          0.000000  5.0   \n",
       "5        0.06970         0.532     184615.0   0.754          0.000000  1.0   \n",
       "6        0.08330         0.689     226268.0   0.706          0.000000  1.0   \n",
       "7        0.45500         0.837     149706.0   0.585          0.000000  2.0   \n",
       "8        0.16900         0.819     183000.0   0.425          0.000000  0.0   \n",
       "9        0.32100         0.677     198082.0   0.696          0.000000  0.0   \n",
       "10       0.00196         0.757     165366.0   0.721          0.000000  4.0   \n",
       "11       0.35500         0.528     196678.0   0.453          0.000001  4.0   \n",
       "12       0.29700         0.610     137876.0   0.508          0.000000  8.0   \n",
       "13       0.23500         0.762     208867.0   0.701          0.000158  8.0   \n",
       "14       0.55100         0.667     169105.0   0.472          0.000000  6.0   \n",
       "15       0.03970         0.488     213400.0   0.535          0.000000  9.0   \n",
       "16       0.17200         0.747     181354.0   0.790          0.000000  0.0   \n",
       "17       0.05460         0.834     168601.0   0.678          0.263000  6.0   \n",
       "18       0.28800         0.444     189000.0   0.648          0.000000  1.0   \n",
       "19       0.05990         0.476     141050.0   0.594          0.000000  5.0   \n",
       "\n",
       "    liveness  loudness  mode  speechiness    tempo  time_signature  valence  \\\n",
       "0     0.2320   -14.007   0.0       0.0807  129.650             4.0    0.203   \n",
       "1     0.0936    -4.645   1.0       0.0325  118.091             4.0    0.593   \n",
       "2     0.4460    -7.166   1.0       0.1490  183.760             4.0    0.695   \n",
       "3     0.0873    -5.345   1.0       0.0390  117.004             4.0    0.571   \n",
       "4     0.1060    -5.842   1.0       0.0428  128.023             4.0    0.342   \n",
       "5     0.0610    -6.834   0.0       0.2230   90.992             4.0    0.717   \n",
       "6     0.1050    -4.480   0.0       0.0312  106.520             4.0    0.623   \n",
       "7     0.0747    -5.690   1.0       0.0554   94.081             4.0    0.726   \n",
       "8     0.0560    -4.810   1.0       0.0495  120.040             4.0    0.829   \n",
       "9     0.4200    -6.181   1.0       0.1190   90.030             4.0    0.464   \n",
       "10    0.6470    -2.906   0.0       0.0691  124.036             4.0    0.364   \n",
       "11    0.1040    -9.398   1.0       0.0396  119.761             4.0    0.281   \n",
       "12    0.3840    -6.682   0.0       0.1520  178.818             4.0    0.758   \n",
       "13    0.1230    -3.541   1.0       0.0286  110.968             4.0    0.742   \n",
       "14    0.1130    -6.565   1.0       0.0386  133.997             4.0    0.585   \n",
       "15    0.2910    -6.338   1.0       0.0249   76.926             4.0    0.448   \n",
       "16    0.3570    -2.233   1.0       0.0474  117.970             4.0    0.615   \n",
       "17    0.1030    -6.242   0.0       0.0515  121.995             4.0    0.551   \n",
       "18    0.0590    -4.955   1.0       0.0476  125.706             5.0    0.171   \n",
       "19    0.0785    -6.879   1.0       0.1350  159.702             4.0    0.314   \n",
       "\n",
       "                                          track_names           artist_1  \\\n",
       "0                                          Your Power      Billie Eilish   \n",
       "1        Save Your Tears (with Ariana Grande) (Remix)         The Weeknd   \n",
       "2                                     tystnar i luren      Miriam Bryant   \n",
       "3                                        Nån annan nu       Molly Sandén   \n",
       "4                                        Lose my mind      Myra Granberg   \n",
       "5            VHS - Spotify Studio It’s Hits Recording  Benjamin Ingrosso   \n",
       "6                                  Little Bit of Love        Tom Grennan   \n",
       "7                                               Ensam       Norlie & KKV   \n",
       "8                                   Instruktionsboken            Miss Li   \n",
       "9              Peaches (feat. Daniel Caesar & Giveon)      Justin Bieber   \n",
       "10  I DID IT (feat. Post Malone, Megan Thee Stalli...          DJ Khaled   \n",
       "11          Gone Are The Days (feat. James Gillespie)               Kygo   \n",
       "12                     MONTERO (Call Me By Your Name)          Lil Nas X   \n",
       "13                           Kiss Me More (feat. SZA)           Doja Cat   \n",
       "14                                                 Vi              Junie   \n",
       "15             Det är nog aldrig för sent för oss två   Thomas Stenström   \n",
       "16                              Look What You've Done       Zara Larsson   \n",
       "17                                         Going Dumb             Alesso   \n",
       "18                                      Girls Like Us           Zoe Wees   \n",
       "19                               Cover Me In Sunshine               P!nk   \n",
       "\n",
       "            artist_2  clusters  \n",
       "0                           13  \n",
       "1      Ariana Grande         9  \n",
       "2     Victor Leksell         6  \n",
       "3                            0  \n",
       "4                            0  \n",
       "5            Cherrie         2  \n",
       "6                            2  \n",
       "7                            9  \n",
       "8                            9  \n",
       "9      Daniel Caesar         9  \n",
       "10       Post Malone         8  \n",
       "11   James Gillespie        13  \n",
       "12                          14  \n",
       "13               SZA         0  \n",
       "14                           0  \n",
       "15                           0  \n",
       "16                           9  \n",
       "17            CORSAK        14  \n",
       "18                           9  \n",
       "19  Willow Sage Hart         6  "
      ]
     },
     "execution_count": 396,
     "metadata": {},
     "output_type": "execute_result"
    }
   ],
   "source": [
    "df.head(20)"
   ]
  },
  {
   "cell_type": "markdown",
   "id": "secondary-yacht",
   "metadata": {},
   "source": [
    "# Cluster Prediction for User Input"
   ]
  },
  {
   "cell_type": "markdown",
   "id": "organic-serum",
   "metadata": {},
   "source": [
    "- put user input into kmeans model"
   ]
  },
  {
   "cell_type": "code",
   "execution_count": null,
   "id": "stopped-knowing",
   "metadata": {},
   "outputs": [],
   "source": [
    "# retrieve accoustics from Spotifty database for user input\n",
    "# if result = False:\n",
    "    #artist_name\n",
    "    #song"
   ]
  },
  {
   "cell_type": "code",
   "execution_count": 510,
   "id": "packed-privilege",
   "metadata": {},
   "outputs": [],
   "source": [
    "# find track id based on user input\n",
    "track_id = sp.search(q=\"artist:\" + artist_name + \" track:\" + song, type=\"track\")['tracks']['items'][0]['id']"
   ]
  },
  {
   "cell_type": "code",
   "execution_count": 511,
   "id": "confused-clinic",
   "metadata": {},
   "outputs": [],
   "source": [
    "#extract audio features for track id\n",
    "audio_features = sp.audio_features(track_id)"
   ]
  },
  {
   "cell_type": "code",
   "execution_count": 512,
   "id": "naughty-tiffany",
   "metadata": {},
   "outputs": [
    {
     "data": {
      "text/plain": [
       "[{'danceability': 0.868,\n",
       "  'energy': 0.795,\n",
       "  'key': 11,\n",
       "  'loudness': -6.044,\n",
       "  'mode': 1,\n",
       "  'speechiness': 0.269,\n",
       "  'acousticness': 0.0012,\n",
       "  'instrumentalness': 0.0193,\n",
       "  'liveness': 0.0461,\n",
       "  'valence': 0.819,\n",
       "  'tempo': 166.0,\n",
       "  'type': 'audio_features',\n",
       "  'id': '1XXimziG1uhM0eDNCZCrUl',\n",
       "  'uri': 'spotify:track:1XXimziG1uhM0eDNCZCrUl',\n",
       "  'track_href': 'https://api.spotify.com/v1/tracks/1XXimziG1uhM0eDNCZCrUl',\n",
       "  'analysis_url': 'https://api.spotify.com/v1/audio-analysis/1XXimziG1uhM0eDNCZCrUl',\n",
       "  'duration_ms': 156945,\n",
       "  'time_signature': 4}]"
      ]
     },
     "execution_count": 512,
     "metadata": {},
     "output_type": "execute_result"
    }
   ],
   "source": [
    "audio_features"
   ]
  },
  {
   "cell_type": "code",
   "execution_count": 513,
   "id": "amazing-supplement",
   "metadata": {
    "scrolled": true
   },
   "outputs": [],
   "source": [
    "# append audio_features to a dataframe\n",
    "X_song = pd.DataFrame()\n",
    "X_song = X_song.append(audio_features)"
   ]
  },
  {
   "cell_type": "code",
   "execution_count": 514,
   "id": "protective-oxide",
   "metadata": {},
   "outputs": [
    {
     "data": {
      "text/html": [
       "<div>\n",
       "<style scoped>\n",
       "    .dataframe tbody tr th:only-of-type {\n",
       "        vertical-align: middle;\n",
       "    }\n",
       "\n",
       "    .dataframe tbody tr th {\n",
       "        vertical-align: top;\n",
       "    }\n",
       "\n",
       "    .dataframe thead th {\n",
       "        text-align: right;\n",
       "    }\n",
       "</style>\n",
       "<table border=\"1\" class=\"dataframe\">\n",
       "  <thead>\n",
       "    <tr style=\"text-align: right;\">\n",
       "      <th></th>\n",
       "      <th>danceability</th>\n",
       "      <th>energy</th>\n",
       "      <th>key</th>\n",
       "      <th>loudness</th>\n",
       "      <th>mode</th>\n",
       "      <th>speechiness</th>\n",
       "      <th>acousticness</th>\n",
       "      <th>instrumentalness</th>\n",
       "      <th>liveness</th>\n",
       "      <th>valence</th>\n",
       "      <th>tempo</th>\n",
       "      <th>type</th>\n",
       "      <th>id</th>\n",
       "      <th>uri</th>\n",
       "      <th>track_href</th>\n",
       "      <th>analysis_url</th>\n",
       "      <th>duration_ms</th>\n",
       "      <th>time_signature</th>\n",
       "    </tr>\n",
       "  </thead>\n",
       "  <tbody>\n",
       "    <tr>\n",
       "      <th>0</th>\n",
       "      <td>0.868</td>\n",
       "      <td>0.795</td>\n",
       "      <td>11</td>\n",
       "      <td>-6.044</td>\n",
       "      <td>1</td>\n",
       "      <td>0.269</td>\n",
       "      <td>0.0012</td>\n",
       "      <td>0.0193</td>\n",
       "      <td>0.0461</td>\n",
       "      <td>0.819</td>\n",
       "      <td>166.0</td>\n",
       "      <td>audio_features</td>\n",
       "      <td>1XXimziG1uhM0eDNCZCrUl</td>\n",
       "      <td>spotify:track:1XXimziG1uhM0eDNCZCrUl</td>\n",
       "      <td>https://api.spotify.com/v1/tracks/1XXimziG1uhM...</td>\n",
       "      <td>https://api.spotify.com/v1/audio-analysis/1XXi...</td>\n",
       "      <td>156945</td>\n",
       "      <td>4</td>\n",
       "    </tr>\n",
       "  </tbody>\n",
       "</table>\n",
       "</div>"
      ],
      "text/plain": [
       "   danceability  energy  key  loudness  mode  speechiness  acousticness  \\\n",
       "0         0.868   0.795   11    -6.044     1        0.269        0.0012   \n",
       "\n",
       "   instrumentalness  liveness  valence  tempo            type  \\\n",
       "0            0.0193    0.0461    0.819  166.0  audio_features   \n",
       "\n",
       "                       id                                   uri  \\\n",
       "0  1XXimziG1uhM0eDNCZCrUl  spotify:track:1XXimziG1uhM0eDNCZCrUl   \n",
       "\n",
       "                                          track_href  \\\n",
       "0  https://api.spotify.com/v1/tracks/1XXimziG1uhM...   \n",
       "\n",
       "                                        analysis_url  duration_ms  \\\n",
       "0  https://api.spotify.com/v1/audio-analysis/1XXi...       156945   \n",
       "\n",
       "   time_signature  \n",
       "0               4  "
      ]
     },
     "execution_count": 514,
     "metadata": {},
     "output_type": "execute_result"
    }
   ],
   "source": [
    "X_song"
   ]
  },
  {
   "cell_type": "code",
   "execution_count": 515,
   "id": "headed-montreal",
   "metadata": {},
   "outputs": [
    {
     "data": {
      "text/html": [
       "<div>\n",
       "<style scoped>\n",
       "    .dataframe tbody tr th:only-of-type {\n",
       "        vertical-align: middle;\n",
       "    }\n",
       "\n",
       "    .dataframe tbody tr th {\n",
       "        vertical-align: top;\n",
       "    }\n",
       "\n",
       "    .dataframe thead th {\n",
       "        text-align: right;\n",
       "    }\n",
       "</style>\n",
       "<table border=\"1\" class=\"dataframe\">\n",
       "  <thead>\n",
       "    <tr style=\"text-align: right;\">\n",
       "      <th></th>\n",
       "      <th>danceability</th>\n",
       "      <th>energy</th>\n",
       "      <th>key</th>\n",
       "      <th>loudness</th>\n",
       "      <th>mode</th>\n",
       "      <th>speechiness</th>\n",
       "      <th>acousticness</th>\n",
       "      <th>instrumentalness</th>\n",
       "      <th>liveness</th>\n",
       "      <th>valence</th>\n",
       "      <th>tempo</th>\n",
       "      <th>duration_ms</th>\n",
       "      <th>time_signature</th>\n",
       "    </tr>\n",
       "  </thead>\n",
       "  <tbody>\n",
       "    <tr>\n",
       "      <th>0</th>\n",
       "      <td>0.868</td>\n",
       "      <td>0.795</td>\n",
       "      <td>11</td>\n",
       "      <td>-6.044</td>\n",
       "      <td>1</td>\n",
       "      <td>0.269</td>\n",
       "      <td>0.0012</td>\n",
       "      <td>0.0193</td>\n",
       "      <td>0.0461</td>\n",
       "      <td>0.819</td>\n",
       "      <td>166.0</td>\n",
       "      <td>156945</td>\n",
       "      <td>4</td>\n",
       "    </tr>\n",
       "  </tbody>\n",
       "</table>\n",
       "</div>"
      ],
      "text/plain": [
       "   danceability  energy  key  loudness  mode  speechiness  acousticness  \\\n",
       "0         0.868   0.795   11    -6.044     1        0.269        0.0012   \n",
       "\n",
       "   instrumentalness  liveness  valence  tempo  duration_ms  time_signature  \n",
       "0            0.0193    0.0461    0.819  166.0       156945               4  "
      ]
     },
     "execution_count": 515,
     "metadata": {},
     "output_type": "execute_result"
    }
   ],
   "source": [
    "# drop columns\n",
    "X_song.drop(['id', 'track_href', 'type', 'uri', 'analysis_url'], axis = 1)"
   ]
  },
  {
   "cell_type": "code",
   "execution_count": 516,
   "id": "divided-agenda",
   "metadata": {},
   "outputs": [],
   "source": [
    "# sort columns to initial dataframe\n",
    "X_song = X_song[X_prep_df.columns]"
   ]
  },
  {
   "cell_type": "code",
   "execution_count": 517,
   "id": "veterinary-edwards",
   "metadata": {},
   "outputs": [],
   "source": [
    "# normalize user input result\n",
    "X_song_prep = scaler.transform(X_song)"
   ]
  },
  {
   "cell_type": "code",
   "execution_count": 518,
   "id": "legitimate-latter",
   "metadata": {
    "scrolled": true
   },
   "outputs": [
    {
     "data": {
      "text/plain": [
       "array([5], dtype=int32)"
      ]
     },
     "execution_count": 518,
     "metadata": {},
     "output_type": "execute_result"
    }
   ],
   "source": [
    "# Predict\n",
    "kmeans.predict(X_song_prep)"
   ]
  },
  {
   "cell_type": "code",
   "execution_count": 519,
   "id": "according-outline",
   "metadata": {},
   "outputs": [
    {
     "data": {
      "text/plain": [
       "5"
      ]
     },
     "execution_count": 519,
     "metadata": {},
     "output_type": "execute_result"
    }
   ],
   "source": [
    "int(kmeans.predict(X_song_prep))"
   ]
  },
  {
   "cell_type": "markdown",
   "id": "affiliated-token",
   "metadata": {},
   "source": [
    "# Recommendation"
   ]
  },
  {
   "cell_type": "markdown",
   "id": "sustainable-anniversary",
   "metadata": {},
   "source": [
    "- with result filter spotify dataset\n",
    "- select randome result\n",
    "- print out result for user"
   ]
  },
  {
   "cell_type": "code",
   "execution_count": 520,
   "id": "automotive-window",
   "metadata": {},
   "outputs": [],
   "source": [
    "song_recommendation = df[df['clusters']==int(kmeans.predict(X_song_prep))]"
   ]
  },
  {
   "cell_type": "code",
   "execution_count": 521,
   "id": "married-broad",
   "metadata": {},
   "outputs": [],
   "source": [
    "recommendation_lst = song_recommendation.sample(n = 1).values.tolist()"
   ]
  },
  {
   "cell_type": "code",
   "execution_count": 522,
   "id": "written-inventory",
   "metadata": {},
   "outputs": [
    {
     "name": "stdout",
     "output_type": "stream",
     "text": [
      "Song Name  'MVP'\n",
      "Artist 1  'Lil Eazzyy'\n",
      "Artist 2  ''\n"
     ]
    }
   ],
   "source": [
    "print('Song Name ' + str(recommendation_lst[0]).split(',')[13])\n",
    "print('Artist 1 ' + str(recommendation_lst[0]).split(',')[14])\n",
    "print('Artist 2 ' +str(recommendation_lst[0]).split(',')[15])"
   ]
  },
  {
   "cell_type": "code",
   "execution_count": null,
   "id": "above-karen",
   "metadata": {},
   "outputs": [],
   "source": [
    "results[\"tracks\"][\"items\"][0][\"name\"]"
   ]
  }
 ],
 "metadata": {
  "kernelspec": {
   "display_name": "Python 3",
   "language": "python",
   "name": "python3"
  },
  "language_info": {
   "codemirror_mode": {
    "name": "ipython",
    "version": 3
   },
   "file_extension": ".py",
   "mimetype": "text/x-python",
   "name": "python",
   "nbconvert_exporter": "python",
   "pygments_lexer": "ipython3",
   "version": "3.9.2"
  },
  "toc": {
   "base_numbering": 1,
   "nav_menu": {},
   "number_sections": true,
   "sideBar": true,
   "skip_h1_title": false,
   "title_cell": "Table of Contents",
   "title_sidebar": "Contents",
   "toc_cell": false,
   "toc_position": {},
   "toc_section_display": true,
   "toc_window_display": false
  }
 },
 "nbformat": 4,
 "nbformat_minor": 5
}
