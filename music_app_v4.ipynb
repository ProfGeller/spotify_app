{
 "cells": [
  {
   "cell_type": "code",
   "execution_count": null,
   "id": "trained-framing",
   "metadata": {
    "scrolled": true
   },
   "outputs": [],
   "source": [
    "run_program()"
   ]
  },
  {
   "cell_type": "markdown",
   "id": "clear-robinson",
   "metadata": {},
   "source": [
    "# Main"
   ]
  },
  {
   "cell_type": "code",
   "execution_count": 57,
   "id": "aquatic-episode",
   "metadata": {},
   "outputs": [],
   "source": [
    "def run_program():\n",
    "    # Enter a Artist and Song\n",
    "    input_user = user_input()\n",
    "\n",
    "    # Is this song in the Billboard top 100\n",
    "    inBillboard = hot_or_not(input_user[0], input_user[1])\n",
    "\n",
    "    # If not recommend a similar song\n",
    "    if inBillboard == False:\n",
    "        recommendation(input_user[0], input_user[1])"
   ]
  },
  {
   "cell_type": "markdown",
   "id": "becoming-modern",
   "metadata": {},
   "source": [
    "# Functions"
   ]
  },
  {
   "cell_type": "code",
   "execution_count": 32,
   "id": "reserved-entertainment",
   "metadata": {},
   "outputs": [],
   "source": [
    "def user_input():\n",
    "    '''\n",
    "    takes the input of a user, checks regex string and returns tuple: artist_name, song\n",
    "    '''\n",
    "    import re\n",
    "    import time\n",
    "    import sys\n",
    "    \n",
    "    artist_input = input('Artist: ')\n",
    "    \n",
    "    while not re.match(\".{4,10}\", artist_input):\n",
    "            print (\"Please enter a valid artist\")\n",
    "            artist_input = input('Artist: ')\n",
    "\n",
    "    song_input = input('Song: ')\n",
    "    while not re.match(\".{4,15}\", song_input):\n",
    "            print (\"Please enter a valid song\")\n",
    "            song_input = input('Song: ')\n",
    "    return artist_input, song_input"
   ]
  },
  {
   "cell_type": "code",
   "execution_count": 33,
   "id": "reduced-clothing",
   "metadata": {},
   "outputs": [],
   "source": [
    "def hot_or_not (artist_name, song):\n",
    "    '''\n",
    "    determines if artist is in Billboard top 100 database\n",
    "    '''\n",
    "    \n",
    "    import time\n",
    "\n",
    "    contains_artist = billboard_top['artist'].str.contains(artist_name)\n",
    "    contains_title = billboard_top['song'].str.contains(song)\n",
    "    results = pd.DataFrame({'contains_artist': contains_artist, 'contains_title': contains_title, \"match\": contains_artist & contains_title})\n",
    "\n",
    "    if results['match'].any():\n",
    "        s = True\n",
    "        print (\"Artist + Track is on the Billboard top 100\")\n",
    "    else:\n",
    "        s = False\n",
    "        print (\"Artist + Track is NOT on the Billboard top 100, but we have something else for you...\")\n",
    "        time.sleep(2)\n",
    "        print('... recommendation process starts ...')\n",
    "        time.sleep(2)\n",
    "        print('...')\n",
    "        time.sleep(2)\n",
    "        print('...')\n",
    "        time.sleep(2)\n",
    "    return s"
   ]
  },
  {
   "cell_type": "code",
   "execution_count": 34,
   "id": "wooden-climate",
   "metadata": {},
   "outputs": [],
   "source": [
    "def recommendation(artist_name, song):\n",
    "    '''\n",
    "    retrieves track information from spotify and returns a matching song from our pre crawled database\n",
    "    '''\n",
    "    import time\n",
    "    \n",
    "    # find track id based on user input\n",
    "    try: track_id = sp.search(q=\"artist:\" + artist_name + \" track:\" + song, type=\"track\")['tracks']['items'][0]['id']\n",
    "    \n",
    "    except IndexError:\n",
    "        print('We could not find any results, please check for typos and try again:')\n",
    "        run_programm()\n",
    "        return\n",
    "        \n",
    "    #extract audio features for track id\n",
    "    audio_features = sp.audio_features(track_id)\n",
    "    \n",
    "    # append audio_features to a dataframe\n",
    "    X_song = pd.DataFrame()\n",
    "    X_song = X_song.append(audio_features)\n",
    "    \n",
    "    # drop columns\n",
    "    X_song.drop(['id', 'track_href', 'type', 'uri', 'analysis_url'], axis = 1)\n",
    "    \n",
    "    # sort columns to initial dataframe\n",
    "    X_song = X_song[X_prep_df.columns]\n",
    "    \n",
    "    # normalize user input result\n",
    "    X_song_prep = scaler.transform(X_song)\n",
    "    \n",
    "    # Predict\n",
    "    kmeans.predict(X_song_prep)\n",
    "    \n",
    "    #filter database for cluster\n",
    "    song_recommendation = df[df['clusters']==int(kmeans.predict(X_song_prep))]\n",
    "    \n",
    "    #random extract from database\n",
    "    recommendation_lst = song_recommendation.sample(n = 1).values.tolist()\n",
    "    \n",
    "    #Print results\n",
    "    print('Song Name ' + str(recommendation_lst[0]).split(',')[13])\n",
    "    print('Artist 1 ' + str(recommendation_lst[0]).split(',')[14])\n",
    "    print('Artist 2 ' +str(recommendation_lst[0]).split(',')[15])\n",
    "    time.sleep(2)\n",
    "    print('...')\n",
    "    print('enjoy!')"
   ]
  },
  {
   "cell_type": "code",
   "execution_count": 35,
   "id": "legendary-popularity",
   "metadata": {},
   "outputs": [],
   "source": [
    "def elbow_inertia(r):\n",
    "    '''\n",
    "    plots the elbow graph for a given number of clusters for k-mean algorithm\n",
    "    '''\n",
    "    K = range(1,r)\n",
    "    inertias = []\n",
    "\n",
    "    for k in K:\n",
    "        kmeans = KMeans(n_clusters = k, random_state=1234)\n",
    "        kmeans.fit(X_prep_df)\n",
    "        inertias.append(kmeans.inertia_)\n",
    "    \n",
    "    import matplotlib.pyplot as plt\n",
    "    plt.plot(K, inertias, 'bx-')\n",
    "    plt.xlabel('# Clusters')\n",
    "    plt.ylabel('Inertia')\n",
    "    plt.title('Elbow Method')\n",
    "    plt.show()"
   ]
  },
  {
   "cell_type": "markdown",
   "id": "daily-curtis",
   "metadata": {},
   "source": [
    "# Data preparation"
   ]
  },
  {
   "cell_type": "markdown",
   "id": "comprehensive-leeds",
   "metadata": {},
   "source": [
    "## Billboard Top 100"
   ]
  },
  {
   "cell_type": "code",
   "execution_count": 36,
   "id": "virgin-database",
   "metadata": {},
   "outputs": [],
   "source": [
    "import requests\n",
    "import pandas as pd\n",
    "from bs4 import BeautifulSoup\n",
    "\n",
    "url = 'https://www.billboard.com/charts/hot-100'\n",
    "response = requests.get(url)\n",
    "soup = BeautifulSoup(response.content, 'html.parser')"
   ]
  },
  {
   "cell_type": "code",
   "execution_count": 37,
   "id": "rolled-detroit",
   "metadata": {},
   "outputs": [],
   "source": [
    "#song_names\n",
    "song_lst = []\n",
    "song_names = soup.select('span.chart-element__information__song')\n",
    "\n",
    "for song in song_names:\n",
    "    song_lst.append(song.text)"
   ]
  },
  {
   "cell_type": "code",
   "execution_count": 38,
   "id": "sophisticated-reply",
   "metadata": {},
   "outputs": [],
   "source": [
    "#artist_names\n",
    "artist_lst = []\n",
    "artist_names = soup.select('span.chart-element__information__artist')\n",
    "\n",
    "for artist in artist_names:\n",
    "    artist_lst.append(artist.text)"
   ]
  },
  {
   "cell_type": "code",
   "execution_count": 39,
   "id": "handled-orientation",
   "metadata": {},
   "outputs": [],
   "source": [
    "#ranking\n",
    "ranking_lst = []\n",
    "ranking_names = soup.select('span.chart-element__rank__number')\n",
    "\n",
    "for rank in ranking_names:\n",
    "    ranking_lst.append(rank.text)"
   ]
  },
  {
   "cell_type": "code",
   "execution_count": 40,
   "id": "oriented-wallace",
   "metadata": {},
   "outputs": [],
   "source": [
    "billboard_top = pd.DataFrame({'rank':ranking_lst, 'artist': artist_lst, 'song': song_lst})"
   ]
  },
  {
   "cell_type": "code",
   "execution_count": 41,
   "id": "liquid-knight",
   "metadata": {},
   "outputs": [],
   "source": [
    "billboard_top.to_csv('billboard_top.csv')"
   ]
  },
  {
   "cell_type": "markdown",
   "id": "atmospheric-accused",
   "metadata": {},
   "source": [
    "## Spotify Data extraction"
   ]
  },
  {
   "cell_type": "code",
   "execution_count": 42,
   "id": "blocked-atlas",
   "metadata": {},
   "outputs": [],
   "source": [
    "import spotipy\n",
    "from spotipy.oauth2 import SpotifyClientCredentials\n",
    "import getpass\n",
    "import pandas as pd\n",
    "from tqdm.notebook import tqdm\n",
    "\n",
    "sp = spotipy.Spotify(auth_manager=SpotifyClientCredentials(client_id=\"7ac25cd2df894d4587f18918f0776908\",\n",
    "                                                           client_secret=\"947331b0345946ef847d79f23802ee84\"))"
   ]
  },
  {
   "cell_type": "code",
   "execution_count": null,
   "id": "rolled-medication",
   "metadata": {},
   "outputs": [],
   "source": [
    "################################################################################################# \n",
    "# do not run, will extract all the information from spotify instead load .csv file \"spotifydf.csv\" \n",
    "# from repo as speciefied below\n",
    "#################################################################################################\n",
    "spotifydf = pd.DataFrame()\n",
    "artistdf = pd.DataFrame()\n",
    "track_lst = []\n",
    "artist_1 = []\n",
    "artist_2 = []\n",
    "\n",
    "#looping through categories\n",
    "try:\n",
    "    for category in tqdm(sp.categories(limit=15)['categories']['items']):\n",
    "\n",
    "        #looping through playlists, ignoring ids that do not exist\n",
    "        try:\n",
    "            for playlist in sp.category_playlists(category_id=category['id'], country=None, limit=15, offset=0)['playlists']['items']:\n",
    "\n",
    "                #looping through tracks, ignoring ids that do not exist\n",
    "                try:\n",
    "                    for tracks in sp.playlist_tracks(playlist['id'])['items']:\n",
    "                        ids = tracks['track']['id']\n",
    "\n",
    "                        #adding rows of audio_features\n",
    "                        spotifydf = spotifydf.append(sp.audio_features(tracks['track']['id']))\n",
    "\n",
    "                        #lst of track names\n",
    "                        track_lst.append(sp.track(ids)['name'])\n",
    "\n",
    "                        #lst of artist 1\n",
    "                        artist_1.append(sp.track(ids)['artists'][0]['name'])\n",
    "\n",
    "                        #lst of artist 2\n",
    "                        try: artist_2.append(sp.track(ids)['artists'][1]['name'])\n",
    "                        except: artist_2.append('')\n",
    "                except:\n",
    "                    print('Track-ID not found error')\n",
    "                    pass\n",
    "        except:\n",
    "            print('Playlist-ID not found error')\n",
    "            pass\n",
    "                    \n",
    "except requests.exceptions.ReadTimeout:\n",
    "    print(\"ReadTimeout\")\n",
    "\n",
    "finally: \n",
    "    spotifydf['track_names'] = track_lst\n",
    "    spotifydf['artist_1'] = artist_1\n",
    "    spotifydf['artist_2'] = artist_2\n",
    "    \n",
    "    #save data to backupfile\n",
    "    spotifydf.to_csv('spotifydf.csv', index_col = 0)"
   ]
  },
  {
   "cell_type": "code",
   "execution_count": 43,
   "id": "orange-decision",
   "metadata": {},
   "outputs": [],
   "source": [
    "#reading from backup\n",
    "df = pd.read_csv('spotifydf.csv', index_col = 0)"
   ]
  },
  {
   "cell_type": "markdown",
   "id": "perfect-trance",
   "metadata": {},
   "source": [
    "# Machine Learning"
   ]
  },
  {
   "cell_type": "markdown",
   "id": "cooked-ratio",
   "metadata": {},
   "source": [
    "## Data wrangling"
   ]
  },
  {
   "cell_type": "code",
   "execution_count": 44,
   "id": "delayed-hungarian",
   "metadata": {},
   "outputs": [],
   "source": [
    "# stripping dataset of unncessary columns\n",
    "df = df.drop(['0', 'analysis_url', 'id', 'track_href', 'type', 'uri'], axis = 1)"
   ]
  },
  {
   "cell_type": "code",
   "execution_count": 45,
   "id": "packed-period",
   "metadata": {},
   "outputs": [],
   "source": [
    "# assign index\n",
    "df = df.reset_index(drop=True)"
   ]
  },
  {
   "cell_type": "code",
   "execution_count": 46,
   "id": "outer-steering",
   "metadata": {
    "scrolled": false
   },
   "outputs": [],
   "source": [
    "# drop null rows\n",
    "df = df.dropna(axis = 0)"
   ]
  },
  {
   "cell_type": "code",
   "execution_count": 47,
   "id": "hollywood-gather",
   "metadata": {},
   "outputs": [],
   "source": [
    "#filling Nulls with empty string, can be removed once new dataset was downloaded\n",
    "df['artist_2']=df['artist_2'].fillna('')\n",
    "\n",
    "# drop null rows\n",
    "df = df.dropna(axis = 0)"
   ]
  },
  {
   "cell_type": "markdown",
   "id": "falling-royal",
   "metadata": {},
   "source": [
    "## Applying Model"
   ]
  },
  {
   "cell_type": "code",
   "execution_count": 48,
   "id": "norwegian-welding",
   "metadata": {},
   "outputs": [],
   "source": [
    "# drop categorical columns - track_names, artist1, artist2\n",
    "X_prep = df.select_dtypes(include = ['float64'])"
   ]
  },
  {
   "cell_type": "code",
   "execution_count": 49,
   "id": "automotive-melbourne",
   "metadata": {},
   "outputs": [],
   "source": [
    "# Standardize \n",
    "from sklearn.preprocessing import StandardScaler\n",
    "scaler = StandardScaler().fit(X_prep)\n",
    "X_prep_np = scaler.transform(X_prep)"
   ]
  },
  {
   "cell_type": "code",
   "execution_count": 50,
   "id": "terminal-status",
   "metadata": {},
   "outputs": [],
   "source": [
    "# Transform to dataframe and attach header\n",
    "X_prep_df = pd.DataFrame(X_prep_np, columns=X_prep.columns)"
   ]
  },
  {
   "cell_type": "code",
   "execution_count": 51,
   "id": "nasty-operation",
   "metadata": {},
   "outputs": [
    {
     "data": {
      "text/plain": [
       "KMeans(n_clusters=40, random_state=1234)"
      ]
     },
     "execution_count": 51,
     "metadata": {},
     "output_type": "execute_result"
    }
   ],
   "source": [
    "# applying Model\n",
    "from sklearn.cluster import KMeans\n",
    "\n",
    "#setting clusters\n",
    "kmeans = KMeans(n_clusters = 40, random_state=1234)\n",
    "kmeans.fit(X_prep_df)"
   ]
  },
  {
   "cell_type": "code",
   "execution_count": 52,
   "id": "incredible-broadcast",
   "metadata": {
    "scrolled": true
   },
   "outputs": [
    {
     "data": {
      "image/png": "[encoded data removed]",
      "text/plain": [
       "<Figure size 432x288 with 1 Axes>"
      ]
     },
     "metadata": {
      "needs_background": "light"
     },
     "output_type": "display_data"
    }
   ],
   "source": [
    "# Assessing optimum for number of clusters\n",
    "elbow_inertia(25)"
   ]
  },
  {
   "cell_type": "code",
   "execution_count": 53,
   "id": "ambient-insulation",
   "metadata": {},
   "outputs": [],
   "source": [
    "#add clusters to initial spotify dataset\n",
    "clusters = kmeans.predict(X_prep_df)\n",
    "df['clusters'] = clusters"
   ]
  },
  {
   "cell_type": "code",
   "execution_count": null,
   "id": "visible-struggle",
   "metadata": {},
   "outputs": [],
   "source": []
  }
 ],
 "metadata": {
  "kernelspec": {
   "display_name": "Python 3",
   "language": "python",
   "name": "python3"
  },
  "language_info": {
   "codemirror_mode": {
    "name": "ipython",
    "version": 3
   },
   "file_extension": ".py",
   "mimetype": "text/x-python",
   "name": "python",
   "nbconvert_exporter": "python",
   "pygments_lexer": "ipython3",
   "version": "3.9.2"
  },
  "toc": {
   "base_numbering": 1,
   "nav_menu": {},
   "number_sections": true,
   "sideBar": true,
   "skip_h1_title": false,
   "title_cell": "Table of Contents",
   "title_sidebar": "Contents",
   "toc_cell": false,
   "toc_position": {},
   "toc_section_display": true,
   "toc_window_display": false
  }
 },
 "nbformat": 4,
 "nbformat_minor": 5
}
